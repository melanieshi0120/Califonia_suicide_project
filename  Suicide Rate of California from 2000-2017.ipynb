{
 "cells": [
  {
   "cell_type": "code",
   "execution_count": 2,
   "metadata": {},
   "outputs": [],
   "source": [
    "import pandas as pd\n",
    "import numpy as np\n",
    "import matplotlib.pyplot as plt\n",
    "import seaborn as sns\n",
    "sns.set()\n",
    "import chart_studio.plotly as py\n",
    "\n",
    "# https://data.world/chhs/bba07a91-bf3f-438b-b7c9-92e6ce351f62/workspace/file?filename=suicide-deaths-per-100-000-population-lghc-indicator-3.xlsx\n",
    "    "
   ]
  },
  {
   "cell_type": "code",
   "execution_count": 29,
   "metadata": {
    "scrolled": false
   },
   "outputs": [
    {
     "data": {
      "text/html": [
       "<div>\n",
       "<style scoped>\n",
       "    .dataframe tbody tr th:only-of-type {\n",
       "        vertical-align: middle;\n",
       "    }\n",
       "\n",
       "    .dataframe tbody tr th {\n",
       "        vertical-align: top;\n",
       "    }\n",
       "\n",
       "    .dataframe thead th {\n",
       "        text-align: right;\n",
       "    }\n",
       "</style>\n",
       "<table border=\"1\" class=\"dataframe\">\n",
       "  <thead>\n",
       "    <tr style=\"text-align: right;\">\n",
       "      <th></th>\n",
       "      <th>Indicator</th>\n",
       "      <th>Geography</th>\n",
       "      <th>Year</th>\n",
       "      <th>Strata</th>\n",
       "      <th>Strata Name</th>\n",
       "      <th>Numerator</th>\n",
       "      <th>Denominator</th>\n",
       "      <th>Rate</th>\n",
       "      <th>Age Adjusted Rate</th>\n",
       "    </tr>\n",
       "  </thead>\n",
       "  <tbody>\n",
       "    <tr>\n",
       "      <th>0</th>\n",
       "      <td>Suicide</td>\n",
       "      <td>CALIFORNIA</td>\n",
       "      <td>2000</td>\n",
       "      <td>Sex</td>\n",
       "      <td>Female</td>\n",
       "      <td>682</td>\n",
       "      <td>17080000</td>\n",
       "      <td>3.993</td>\n",
       "      <td>4.067</td>\n",
       "    </tr>\n",
       "    <tr>\n",
       "      <th>1</th>\n",
       "      <td>Suicide</td>\n",
       "      <td>CALIFORNIA</td>\n",
       "      <td>2000</td>\n",
       "      <td>Sex</td>\n",
       "      <td>Male</td>\n",
       "      <td>2431</td>\n",
       "      <td>16920000</td>\n",
       "      <td>14.370</td>\n",
       "      <td>15.890</td>\n",
       "    </tr>\n",
       "    <tr>\n",
       "      <th>2</th>\n",
       "      <td>Suicide</td>\n",
       "      <td>CALIFORNIA</td>\n",
       "      <td>2000</td>\n",
       "      <td>Sex</td>\n",
       "      <td>Total</td>\n",
       "      <td>3113</td>\n",
       "      <td>34000000</td>\n",
       "      <td>9.156</td>\n",
       "      <td>9.564</td>\n",
       "    </tr>\n",
       "    <tr>\n",
       "      <th>3</th>\n",
       "      <td>Suicide</td>\n",
       "      <td>CALIFORNIA</td>\n",
       "      <td>2001</td>\n",
       "      <td>Sex</td>\n",
       "      <td>Female</td>\n",
       "      <td>685</td>\n",
       "      <td>17340000</td>\n",
       "      <td>3.950</td>\n",
       "      <td>4.005</td>\n",
       "    </tr>\n",
       "    <tr>\n",
       "      <th>4</th>\n",
       "      <td>Suicide</td>\n",
       "      <td>CALIFORNIA</td>\n",
       "      <td>2001</td>\n",
       "      <td>Sex</td>\n",
       "      <td>Male</td>\n",
       "      <td>2571</td>\n",
       "      <td>17170000</td>\n",
       "      <td>14.970</td>\n",
       "      <td>16.410</td>\n",
       "    </tr>\n",
       "  </tbody>\n",
       "</table>\n",
       "</div>"
      ],
      "text/plain": [
       "  Indicator   Geography  Year Strata Strata Name  Numerator  Denominator  \\\n",
       "0   Suicide  CALIFORNIA  2000    Sex      Female        682     17080000   \n",
       "1   Suicide  CALIFORNIA  2000    Sex        Male       2431     16920000   \n",
       "2   Suicide  CALIFORNIA  2000    Sex       Total       3113     34000000   \n",
       "3   Suicide  CALIFORNIA  2001    Sex      Female        685     17340000   \n",
       "4   Suicide  CALIFORNIA  2001    Sex        Male       2571     17170000   \n",
       "\n",
       "     Rate  Age Adjusted Rate  \n",
       "0   3.993              4.067  \n",
       "1  14.370             15.890  \n",
       "2   9.156              9.564  \n",
       "3   3.950              4.005  \n",
       "4  14.970             16.410  "
      ]
     },
     "execution_count": 29,
     "metadata": {},
     "output_type": "execute_result"
    }
   ],
   "source": [
    "df=pd.read_csv('data/suicide-lghc-indicator-21.csv')\n",
    "df.head()"
   ]
  },
  {
   "cell_type": "code",
   "execution_count": 30,
   "metadata": {
    "scrolled": true
   },
   "outputs": [
    {
     "data": {
      "text/plain": [
       "Indicator            0\n",
       "Geography            0\n",
       "Year                 0\n",
       "Strata               0\n",
       "Strata Name          0\n",
       "Numerator            0\n",
       "Denominator          0\n",
       "Rate                 0\n",
       "Age Adjusted Rate    0\n",
       "dtype: int64"
      ]
     },
     "execution_count": 30,
     "metadata": {},
     "output_type": "execute_result"
    }
   ],
   "source": [
    "df.isnull().sum()"
   ]
  },
  {
   "cell_type": "markdown",
   "metadata": {},
   "source": [
    "# Gender"
   ]
  },
  {
   "cell_type": "code",
   "execution_count": 31,
   "metadata": {},
   "outputs": [
    {
     "data": {
      "application/vnd.plotly.v1+json": {
       "config": {
        "plotlyServerURL": "https://plotly.com"
       },
       "data": [
        {
         "hovertemplate": "Strata Name=Female<br>Year=%{x}<br>Rate=%{y}<extra></extra>",
         "legendgroup": "Female",
         "line": {
          "color": "#636efa",
          "dash": "solid"
         },
         "mode": "lines",
         "name": "Female",
         "showlegend": true,
         "type": "scatter",
         "x": [
          "2000",
          "2001",
          "2002",
          "2003",
          "2004",
          "2005",
          "2006",
          "2007",
          "2008",
          "2009",
          "2010",
          "2011",
          "2012",
          "2013",
          "2014",
          "2015",
          "2016",
          "2017"
         ],
         "xaxis": "x",
         "y": [
          3.9930000000000003,
          3.95,
          4.045,
          4.122,
          4.569,
          3.986,
          4.023,
          4.409,
          4.61,
          4.776,
          4.565,
          4.984,
          4.34,
          4.749,
          4.957,
          5.065,
          5.002,
          4.681
         ],
         "yaxis": "y"
        },
        {
         "hovertemplate": "Strata Name=Male<br>Year=%{x}<br>Rate=%{y}<extra></extra>",
         "legendgroup": "Male",
         "line": {
          "color": "#EF553B",
          "dash": "solid"
         },
         "mode": "lines",
         "name": "Male",
         "showlegend": true,
         "type": "scatter",
         "x": [
          "2000",
          "2001",
          "2002",
          "2003",
          "2004",
          "2005",
          "2006",
          "2007",
          "2008",
          "2009",
          "2010",
          "2011",
          "2012",
          "2013",
          "2014",
          "2015",
          "2016",
          "2017"
         ],
         "xaxis": "x",
         "y": [
          14.37,
          14.97,
          14.38,
          15.13,
          14.3,
          13.4,
          13.9,
          14.71,
          15.47,
          15.44,
          15.88,
          15.99,
          15.83,
          15.72,
          16.44,
          16.07,
          16.46,
          16.68
         ],
         "yaxis": "y"
        }
       ],
       "layout": {
        "legend": {
         "title": {
          "text": "Strata Name"
         },
         "tracegroupgap": 0
        },
        "template": {
         "data": {
          "bar": [
           {
            "error_x": {
             "color": "#2a3f5f"
            },
            "error_y": {
             "color": "#2a3f5f"
            },
            "marker": {
             "line": {
              "color": "#E5ECF6",
              "width": 0.5
             }
            },
            "type": "bar"
           }
          ],
          "barpolar": [
           {
            "marker": {
             "line": {
              "color": "#E5ECF6",
              "width": 0.5
             }
            },
            "type": "barpolar"
           }
          ],
          "carpet": [
           {
            "aaxis": {
             "endlinecolor": "#2a3f5f",
             "gridcolor": "white",
             "linecolor": "white",
             "minorgridcolor": "white",
             "startlinecolor": "#2a3f5f"
            },
            "baxis": {
             "endlinecolor": "#2a3f5f",
             "gridcolor": "white",
             "linecolor": "white",
             "minorgridcolor": "white",
             "startlinecolor": "#2a3f5f"
            },
            "type": "carpet"
           }
          ],
          "choropleth": [
           {
            "colorbar": {
             "outlinewidth": 0,
             "ticks": ""
            },
            "type": "choropleth"
           }
          ],
          "contour": [
           {
            "colorbar": {
             "outlinewidth": 0,
             "ticks": ""
            },
            "colorscale": [
             [
              0,
              "#0d0887"
             ],
             [
              0.1111111111111111,
              "#46039f"
             ],
             [
              0.2222222222222222,
              "#7201a8"
             ],
             [
              0.3333333333333333,
              "#9c179e"
             ],
             [
              0.4444444444444444,
              "#bd3786"
             ],
             [
              0.5555555555555556,
              "#d8576b"
             ],
             [
              0.6666666666666666,
              "#ed7953"
             ],
             [
              0.7777777777777778,
              "#fb9f3a"
             ],
             [
              0.8888888888888888,
              "#fdca26"
             ],
             [
              1,
              "#f0f921"
             ]
            ],
            "type": "contour"
           }
          ],
          "contourcarpet": [
           {
            "colorbar": {
             "outlinewidth": 0,
             "ticks": ""
            },
            "type": "contourcarpet"
           }
          ],
          "heatmap": [
           {
            "colorbar": {
             "outlinewidth": 0,
             "ticks": ""
            },
            "colorscale": [
             [
              0,
              "#0d0887"
             ],
             [
              0.1111111111111111,
              "#46039f"
             ],
             [
              0.2222222222222222,
              "#7201a8"
             ],
             [
              0.3333333333333333,
              "#9c179e"
             ],
             [
              0.4444444444444444,
              "#bd3786"
             ],
             [
              0.5555555555555556,
              "#d8576b"
             ],
             [
              0.6666666666666666,
              "#ed7953"
             ],
             [
              0.7777777777777778,
              "#fb9f3a"
             ],
             [
              0.8888888888888888,
              "#fdca26"
             ],
             [
              1,
              "#f0f921"
             ]
            ],
            "type": "heatmap"
           }
          ],
          "heatmapgl": [
           {
            "colorbar": {
             "outlinewidth": 0,
             "ticks": ""
            },
            "colorscale": [
             [
              0,
              "#0d0887"
             ],
             [
              0.1111111111111111,
              "#46039f"
             ],
             [
              0.2222222222222222,
              "#7201a8"
             ],
             [
              0.3333333333333333,
              "#9c179e"
             ],
             [
              0.4444444444444444,
              "#bd3786"
             ],
             [
              0.5555555555555556,
              "#d8576b"
             ],
             [
              0.6666666666666666,
              "#ed7953"
             ],
             [
              0.7777777777777778,
              "#fb9f3a"
             ],
             [
              0.8888888888888888,
              "#fdca26"
             ],
             [
              1,
              "#f0f921"
             ]
            ],
            "type": "heatmapgl"
           }
          ],
          "histogram": [
           {
            "marker": {
             "colorbar": {
              "outlinewidth": 0,
              "ticks": ""
             }
            },
            "type": "histogram"
           }
          ],
          "histogram2d": [
           {
            "colorbar": {
             "outlinewidth": 0,
             "ticks": ""
            },
            "colorscale": [
             [
              0,
              "#0d0887"
             ],
             [
              0.1111111111111111,
              "#46039f"
             ],
             [
              0.2222222222222222,
              "#7201a8"
             ],
             [
              0.3333333333333333,
              "#9c179e"
             ],
             [
              0.4444444444444444,
              "#bd3786"
             ],
             [
              0.5555555555555556,
              "#d8576b"
             ],
             [
              0.6666666666666666,
              "#ed7953"
             ],
             [
              0.7777777777777778,
              "#fb9f3a"
             ],
             [
              0.8888888888888888,
              "#fdca26"
             ],
             [
              1,
              "#f0f921"
             ]
            ],
            "type": "histogram2d"
           }
          ],
          "histogram2dcontour": [
           {
            "colorbar": {
             "outlinewidth": 0,
             "ticks": ""
            },
            "colorscale": [
             [
              0,
              "#0d0887"
             ],
             [
              0.1111111111111111,
              "#46039f"
             ],
             [
              0.2222222222222222,
              "#7201a8"
             ],
             [
              0.3333333333333333,
              "#9c179e"
             ],
             [
              0.4444444444444444,
              "#bd3786"
             ],
             [
              0.5555555555555556,
              "#d8576b"
             ],
             [
              0.6666666666666666,
              "#ed7953"
             ],
             [
              0.7777777777777778,
              "#fb9f3a"
             ],
             [
              0.8888888888888888,
              "#fdca26"
             ],
             [
              1,
              "#f0f921"
             ]
            ],
            "type": "histogram2dcontour"
           }
          ],
          "mesh3d": [
           {
            "colorbar": {
             "outlinewidth": 0,
             "ticks": ""
            },
            "type": "mesh3d"
           }
          ],
          "parcoords": [
           {
            "line": {
             "colorbar": {
              "outlinewidth": 0,
              "ticks": ""
             }
            },
            "type": "parcoords"
           }
          ],
          "pie": [
           {
            "automargin": true,
            "type": "pie"
           }
          ],
          "scatter": [
           {
            "marker": {
             "colorbar": {
              "outlinewidth": 0,
              "ticks": ""
             }
            },
            "type": "scatter"
           }
          ],
          "scatter3d": [
           {
            "line": {
             "colorbar": {
              "outlinewidth": 0,
              "ticks": ""
             }
            },
            "marker": {
             "colorbar": {
              "outlinewidth": 0,
              "ticks": ""
             }
            },
            "type": "scatter3d"
           }
          ],
          "scattercarpet": [
           {
            "marker": {
             "colorbar": {
              "outlinewidth": 0,
              "ticks": ""
             }
            },
            "type": "scattercarpet"
           }
          ],
          "scattergeo": [
           {
            "marker": {
             "colorbar": {
              "outlinewidth": 0,
              "ticks": ""
             }
            },
            "type": "scattergeo"
           }
          ],
          "scattergl": [
           {
            "marker": {
             "colorbar": {
              "outlinewidth": 0,
              "ticks": ""
             }
            },
            "type": "scattergl"
           }
          ],
          "scattermapbox": [
           {
            "marker": {
             "colorbar": {
              "outlinewidth": 0,
              "ticks": ""
             }
            },
            "type": "scattermapbox"
           }
          ],
          "scatterpolar": [
           {
            "marker": {
             "colorbar": {
              "outlinewidth": 0,
              "ticks": ""
             }
            },
            "type": "scatterpolar"
           }
          ],
          "scatterpolargl": [
           {
            "marker": {
             "colorbar": {
              "outlinewidth": 0,
              "ticks": ""
             }
            },
            "type": "scatterpolargl"
           }
          ],
          "scatterternary": [
           {
            "marker": {
             "colorbar": {
              "outlinewidth": 0,
              "ticks": ""
             }
            },
            "type": "scatterternary"
           }
          ],
          "surface": [
           {
            "colorbar": {
             "outlinewidth": 0,
             "ticks": ""
            },
            "colorscale": [
             [
              0,
              "#0d0887"
             ],
             [
              0.1111111111111111,
              "#46039f"
             ],
             [
              0.2222222222222222,
              "#7201a8"
             ],
             [
              0.3333333333333333,
              "#9c179e"
             ],
             [
              0.4444444444444444,
              "#bd3786"
             ],
             [
              0.5555555555555556,
              "#d8576b"
             ],
             [
              0.6666666666666666,
              "#ed7953"
             ],
             [
              0.7777777777777778,
              "#fb9f3a"
             ],
             [
              0.8888888888888888,
              "#fdca26"
             ],
             [
              1,
              "#f0f921"
             ]
            ],
            "type": "surface"
           }
          ],
          "table": [
           {
            "cells": {
             "fill": {
              "color": "#EBF0F8"
             },
             "line": {
              "color": "white"
             }
            },
            "header": {
             "fill": {
              "color": "#C8D4E3"
             },
             "line": {
              "color": "white"
             }
            },
            "type": "table"
           }
          ]
         },
         "layout": {
          "annotationdefaults": {
           "arrowcolor": "#2a3f5f",
           "arrowhead": 0,
           "arrowwidth": 1
          },
          "coloraxis": {
           "colorbar": {
            "outlinewidth": 0,
            "ticks": ""
           }
          },
          "colorscale": {
           "diverging": [
            [
             0,
             "#8e0152"
            ],
            [
             0.1,
             "#c51b7d"
            ],
            [
             0.2,
             "#de77ae"
            ],
            [
             0.3,
             "#f1b6da"
            ],
            [
             0.4,
             "#fde0ef"
            ],
            [
             0.5,
             "#f7f7f7"
            ],
            [
             0.6,
             "#e6f5d0"
            ],
            [
             0.7,
             "#b8e186"
            ],
            [
             0.8,
             "#7fbc41"
            ],
            [
             0.9,
             "#4d9221"
            ],
            [
             1,
             "#276419"
            ]
           ],
           "sequential": [
            [
             0,
             "#0d0887"
            ],
            [
             0.1111111111111111,
             "#46039f"
            ],
            [
             0.2222222222222222,
             "#7201a8"
            ],
            [
             0.3333333333333333,
             "#9c179e"
            ],
            [
             0.4444444444444444,
             "#bd3786"
            ],
            [
             0.5555555555555556,
             "#d8576b"
            ],
            [
             0.6666666666666666,
             "#ed7953"
            ],
            [
             0.7777777777777778,
             "#fb9f3a"
            ],
            [
             0.8888888888888888,
             "#fdca26"
            ],
            [
             1,
             "#f0f921"
            ]
           ],
           "sequentialminus": [
            [
             0,
             "#0d0887"
            ],
            [
             0.1111111111111111,
             "#46039f"
            ],
            [
             0.2222222222222222,
             "#7201a8"
            ],
            [
             0.3333333333333333,
             "#9c179e"
            ],
            [
             0.4444444444444444,
             "#bd3786"
            ],
            [
             0.5555555555555556,
             "#d8576b"
            ],
            [
             0.6666666666666666,
             "#ed7953"
            ],
            [
             0.7777777777777778,
             "#fb9f3a"
            ],
            [
             0.8888888888888888,
             "#fdca26"
            ],
            [
             1,
             "#f0f921"
            ]
           ]
          },
          "colorway": [
           "#636efa",
           "#EF553B",
           "#00cc96",
           "#ab63fa",
           "#FFA15A",
           "#19d3f3",
           "#FF6692",
           "#B6E880",
           "#FF97FF",
           "#FECB52"
          ],
          "font": {
           "color": "#2a3f5f"
          },
          "geo": {
           "bgcolor": "white",
           "lakecolor": "white",
           "landcolor": "#E5ECF6",
           "showlakes": true,
           "showland": true,
           "subunitcolor": "white"
          },
          "hoverlabel": {
           "align": "left"
          },
          "hovermode": "closest",
          "mapbox": {
           "style": "light"
          },
          "paper_bgcolor": "white",
          "plot_bgcolor": "#E5ECF6",
          "polar": {
           "angularaxis": {
            "gridcolor": "white",
            "linecolor": "white",
            "ticks": ""
           },
           "bgcolor": "#E5ECF6",
           "radialaxis": {
            "gridcolor": "white",
            "linecolor": "white",
            "ticks": ""
           }
          },
          "scene": {
           "xaxis": {
            "backgroundcolor": "#E5ECF6",
            "gridcolor": "white",
            "gridwidth": 2,
            "linecolor": "white",
            "showbackground": true,
            "ticks": "",
            "zerolinecolor": "white"
           },
           "yaxis": {
            "backgroundcolor": "#E5ECF6",
            "gridcolor": "white",
            "gridwidth": 2,
            "linecolor": "white",
            "showbackground": true,
            "ticks": "",
            "zerolinecolor": "white"
           },
           "zaxis": {
            "backgroundcolor": "#E5ECF6",
            "gridcolor": "white",
            "gridwidth": 2,
            "linecolor": "white",
            "showbackground": true,
            "ticks": "",
            "zerolinecolor": "white"
           }
          },
          "shapedefaults": {
           "line": {
            "color": "#2a3f5f"
           }
          },
          "ternary": {
           "aaxis": {
            "gridcolor": "white",
            "linecolor": "white",
            "ticks": ""
           },
           "baxis": {
            "gridcolor": "white",
            "linecolor": "white",
            "ticks": ""
           },
           "bgcolor": "#E5ECF6",
           "caxis": {
            "gridcolor": "white",
            "linecolor": "white",
            "ticks": ""
           }
          },
          "title": {
           "x": 0.05
          },
          "xaxis": {
           "automargin": true,
           "gridcolor": "white",
           "linecolor": "white",
           "ticks": "",
           "title": {
            "standoff": 15
           },
           "zerolinecolor": "white",
           "zerolinewidth": 2
          },
          "yaxis": {
           "automargin": true,
           "gridcolor": "white",
           "linecolor": "white",
           "ticks": "",
           "title": {
            "standoff": 15
           },
           "zerolinecolor": "white",
           "zerolinewidth": 2
          }
         }
        },
        "title": {
         "text": "Suicide Rate by Gender from 2000 - 2017"
        },
        "xaxis": {
         "anchor": "y",
         "domain": [
          0,
          1
         ],
         "title": {
          "text": "Year"
         }
        },
        "yaxis": {
         "anchor": "x",
         "domain": [
          0,
          1
         ],
         "title": {
          "text": "Rate"
         }
        }
       }
      },
      "text/html": [
       "<div>\n",
       "        \n",
       "        \n",
       "            <div id=\"1ec5a6a3-544b-4bf4-bd9a-8fddcd560bf6\" class=\"plotly-graph-div\" style=\"height:525px; width:100%;\"></div>\n",
       "            <script type=\"text/javascript\">\n",
       "                require([\"plotly\"], function(Plotly) {\n",
       "                    window.PLOTLYENV=window.PLOTLYENV || {};\n",
       "                    \n",
       "                if (document.getElementById(\"1ec5a6a3-544b-4bf4-bd9a-8fddcd560bf6\")) {\n",
       "                    Plotly.newPlot(\n",
       "                        '1ec5a6a3-544b-4bf4-bd9a-8fddcd560bf6',\n",
       "                        [{\"hovertemplate\": \"Strata Name=Female<br>Year=%{x}<br>Rate=%{y}<extra></extra>\", \"legendgroup\": \"Female\", \"line\": {\"color\": \"#636efa\", \"dash\": \"solid\"}, \"mode\": \"lines\", \"name\": \"Female\", \"showlegend\": true, \"type\": \"scatter\", \"x\": [\"2000\", \"2001\", \"2002\", \"2003\", \"2004\", \"2005\", \"2006\", \"2007\", \"2008\", \"2009\", \"2010\", \"2011\", \"2012\", \"2013\", \"2014\", \"2015\", \"2016\", \"2017\"], \"xaxis\": \"x\", \"y\": [3.9930000000000003, 3.95, 4.045, 4.122, 4.569, 3.986, 4.023, 4.409, 4.61, 4.776, 4.565, 4.984, 4.34, 4.749, 4.957, 5.065, 5.002, 4.681], \"yaxis\": \"y\"}, {\"hovertemplate\": \"Strata Name=Male<br>Year=%{x}<br>Rate=%{y}<extra></extra>\", \"legendgroup\": \"Male\", \"line\": {\"color\": \"#EF553B\", \"dash\": \"solid\"}, \"mode\": \"lines\", \"name\": \"Male\", \"showlegend\": true, \"type\": \"scatter\", \"x\": [\"2000\", \"2001\", \"2002\", \"2003\", \"2004\", \"2005\", \"2006\", \"2007\", \"2008\", \"2009\", \"2010\", \"2011\", \"2012\", \"2013\", \"2014\", \"2015\", \"2016\", \"2017\"], \"xaxis\": \"x\", \"y\": [14.37, 14.97, 14.38, 15.13, 14.3, 13.4, 13.9, 14.71, 15.47, 15.44, 15.88, 15.99, 15.83, 15.72, 16.44, 16.07, 16.46, 16.68], \"yaxis\": \"y\"}],\n",
       "                        {\"legend\": {\"title\": {\"text\": \"Strata Name\"}, \"tracegroupgap\": 0}, \"template\": {\"data\": {\"bar\": [{\"error_x\": {\"color\": \"#2a3f5f\"}, \"error_y\": {\"color\": \"#2a3f5f\"}, \"marker\": {\"line\": {\"color\": \"#E5ECF6\", \"width\": 0.5}}, \"type\": \"bar\"}], \"barpolar\": [{\"marker\": {\"line\": {\"color\": \"#E5ECF6\", \"width\": 0.5}}, \"type\": \"barpolar\"}], \"carpet\": [{\"aaxis\": {\"endlinecolor\": \"#2a3f5f\", \"gridcolor\": \"white\", \"linecolor\": \"white\", \"minorgridcolor\": \"white\", \"startlinecolor\": \"#2a3f5f\"}, \"baxis\": {\"endlinecolor\": \"#2a3f5f\", \"gridcolor\": \"white\", \"linecolor\": \"white\", \"minorgridcolor\": \"white\", \"startlinecolor\": \"#2a3f5f\"}, \"type\": \"carpet\"}], \"choropleth\": [{\"colorbar\": {\"outlinewidth\": 0, \"ticks\": \"\"}, \"type\": \"choropleth\"}], \"contour\": [{\"colorbar\": {\"outlinewidth\": 0, \"ticks\": \"\"}, \"colorscale\": [[0.0, \"#0d0887\"], [0.1111111111111111, \"#46039f\"], [0.2222222222222222, \"#7201a8\"], [0.3333333333333333, \"#9c179e\"], [0.4444444444444444, \"#bd3786\"], [0.5555555555555556, \"#d8576b\"], [0.6666666666666666, \"#ed7953\"], [0.7777777777777778, \"#fb9f3a\"], [0.8888888888888888, \"#fdca26\"], [1.0, \"#f0f921\"]], \"type\": \"contour\"}], \"contourcarpet\": [{\"colorbar\": {\"outlinewidth\": 0, \"ticks\": \"\"}, \"type\": \"contourcarpet\"}], \"heatmap\": [{\"colorbar\": {\"outlinewidth\": 0, \"ticks\": \"\"}, \"colorscale\": [[0.0, \"#0d0887\"], [0.1111111111111111, \"#46039f\"], [0.2222222222222222, \"#7201a8\"], [0.3333333333333333, \"#9c179e\"], [0.4444444444444444, \"#bd3786\"], [0.5555555555555556, \"#d8576b\"], [0.6666666666666666, \"#ed7953\"], [0.7777777777777778, \"#fb9f3a\"], [0.8888888888888888, \"#fdca26\"], [1.0, \"#f0f921\"]], \"type\": \"heatmap\"}], \"heatmapgl\": [{\"colorbar\": {\"outlinewidth\": 0, \"ticks\": \"\"}, \"colorscale\": [[0.0, \"#0d0887\"], [0.1111111111111111, \"#46039f\"], [0.2222222222222222, \"#7201a8\"], [0.3333333333333333, \"#9c179e\"], [0.4444444444444444, \"#bd3786\"], [0.5555555555555556, \"#d8576b\"], [0.6666666666666666, \"#ed7953\"], [0.7777777777777778, \"#fb9f3a\"], [0.8888888888888888, \"#fdca26\"], [1.0, \"#f0f921\"]], \"type\": \"heatmapgl\"}], \"histogram\": [{\"marker\": {\"colorbar\": {\"outlinewidth\": 0, \"ticks\": \"\"}}, \"type\": \"histogram\"}], \"histogram2d\": [{\"colorbar\": {\"outlinewidth\": 0, \"ticks\": \"\"}, \"colorscale\": [[0.0, \"#0d0887\"], [0.1111111111111111, \"#46039f\"], [0.2222222222222222, \"#7201a8\"], [0.3333333333333333, \"#9c179e\"], [0.4444444444444444, \"#bd3786\"], [0.5555555555555556, \"#d8576b\"], [0.6666666666666666, \"#ed7953\"], [0.7777777777777778, \"#fb9f3a\"], [0.8888888888888888, \"#fdca26\"], [1.0, \"#f0f921\"]], \"type\": \"histogram2d\"}], \"histogram2dcontour\": [{\"colorbar\": {\"outlinewidth\": 0, \"ticks\": \"\"}, \"colorscale\": [[0.0, \"#0d0887\"], [0.1111111111111111, \"#46039f\"], [0.2222222222222222, \"#7201a8\"], [0.3333333333333333, \"#9c179e\"], [0.4444444444444444, \"#bd3786\"], [0.5555555555555556, \"#d8576b\"], [0.6666666666666666, \"#ed7953\"], [0.7777777777777778, \"#fb9f3a\"], [0.8888888888888888, \"#fdca26\"], [1.0, \"#f0f921\"]], \"type\": \"histogram2dcontour\"}], \"mesh3d\": [{\"colorbar\": {\"outlinewidth\": 0, \"ticks\": \"\"}, \"type\": \"mesh3d\"}], \"parcoords\": [{\"line\": {\"colorbar\": {\"outlinewidth\": 0, \"ticks\": \"\"}}, \"type\": \"parcoords\"}], \"pie\": [{\"automargin\": true, \"type\": \"pie\"}], \"scatter\": [{\"marker\": {\"colorbar\": {\"outlinewidth\": 0, \"ticks\": \"\"}}, \"type\": \"scatter\"}], \"scatter3d\": [{\"line\": {\"colorbar\": {\"outlinewidth\": 0, \"ticks\": \"\"}}, \"marker\": {\"colorbar\": {\"outlinewidth\": 0, \"ticks\": \"\"}}, \"type\": \"scatter3d\"}], \"scattercarpet\": [{\"marker\": {\"colorbar\": {\"outlinewidth\": 0, \"ticks\": \"\"}}, \"type\": \"scattercarpet\"}], \"scattergeo\": [{\"marker\": {\"colorbar\": {\"outlinewidth\": 0, \"ticks\": \"\"}}, \"type\": \"scattergeo\"}], \"scattergl\": [{\"marker\": {\"colorbar\": {\"outlinewidth\": 0, \"ticks\": \"\"}}, \"type\": \"scattergl\"}], \"scattermapbox\": [{\"marker\": {\"colorbar\": {\"outlinewidth\": 0, \"ticks\": \"\"}}, \"type\": \"scattermapbox\"}], \"scatterpolar\": [{\"marker\": {\"colorbar\": {\"outlinewidth\": 0, \"ticks\": \"\"}}, \"type\": \"scatterpolar\"}], \"scatterpolargl\": [{\"marker\": {\"colorbar\": {\"outlinewidth\": 0, \"ticks\": \"\"}}, \"type\": \"scatterpolargl\"}], \"scatterternary\": [{\"marker\": {\"colorbar\": {\"outlinewidth\": 0, \"ticks\": \"\"}}, \"type\": \"scatterternary\"}], \"surface\": [{\"colorbar\": {\"outlinewidth\": 0, \"ticks\": \"\"}, \"colorscale\": [[0.0, \"#0d0887\"], [0.1111111111111111, \"#46039f\"], [0.2222222222222222, \"#7201a8\"], [0.3333333333333333, \"#9c179e\"], [0.4444444444444444, \"#bd3786\"], [0.5555555555555556, \"#d8576b\"], [0.6666666666666666, \"#ed7953\"], [0.7777777777777778, \"#fb9f3a\"], [0.8888888888888888, \"#fdca26\"], [1.0, \"#f0f921\"]], \"type\": \"surface\"}], \"table\": [{\"cells\": {\"fill\": {\"color\": \"#EBF0F8\"}, \"line\": {\"color\": \"white\"}}, \"header\": {\"fill\": {\"color\": \"#C8D4E3\"}, \"line\": {\"color\": \"white\"}}, \"type\": \"table\"}]}, \"layout\": {\"annotationdefaults\": {\"arrowcolor\": \"#2a3f5f\", \"arrowhead\": 0, \"arrowwidth\": 1}, \"coloraxis\": {\"colorbar\": {\"outlinewidth\": 0, \"ticks\": \"\"}}, \"colorscale\": {\"diverging\": [[0, \"#8e0152\"], [0.1, \"#c51b7d\"], [0.2, \"#de77ae\"], [0.3, \"#f1b6da\"], [0.4, \"#fde0ef\"], [0.5, \"#f7f7f7\"], [0.6, \"#e6f5d0\"], [0.7, \"#b8e186\"], [0.8, \"#7fbc41\"], [0.9, \"#4d9221\"], [1, \"#276419\"]], \"sequential\": [[0.0, \"#0d0887\"], [0.1111111111111111, \"#46039f\"], [0.2222222222222222, \"#7201a8\"], [0.3333333333333333, \"#9c179e\"], [0.4444444444444444, \"#bd3786\"], [0.5555555555555556, \"#d8576b\"], [0.6666666666666666, \"#ed7953\"], [0.7777777777777778, \"#fb9f3a\"], [0.8888888888888888, \"#fdca26\"], [1.0, \"#f0f921\"]], \"sequentialminus\": [[0.0, \"#0d0887\"], [0.1111111111111111, \"#46039f\"], [0.2222222222222222, \"#7201a8\"], [0.3333333333333333, \"#9c179e\"], [0.4444444444444444, \"#bd3786\"], [0.5555555555555556, \"#d8576b\"], [0.6666666666666666, \"#ed7953\"], [0.7777777777777778, \"#fb9f3a\"], [0.8888888888888888, \"#fdca26\"], [1.0, \"#f0f921\"]]}, \"colorway\": [\"#636efa\", \"#EF553B\", \"#00cc96\", \"#ab63fa\", \"#FFA15A\", \"#19d3f3\", \"#FF6692\", \"#B6E880\", \"#FF97FF\", \"#FECB52\"], \"font\": {\"color\": \"#2a3f5f\"}, \"geo\": {\"bgcolor\": \"white\", \"lakecolor\": \"white\", \"landcolor\": \"#E5ECF6\", \"showlakes\": true, \"showland\": true, \"subunitcolor\": \"white\"}, \"hoverlabel\": {\"align\": \"left\"}, \"hovermode\": \"closest\", \"mapbox\": {\"style\": \"light\"}, \"paper_bgcolor\": \"white\", \"plot_bgcolor\": \"#E5ECF6\", \"polar\": {\"angularaxis\": {\"gridcolor\": \"white\", \"linecolor\": \"white\", \"ticks\": \"\"}, \"bgcolor\": \"#E5ECF6\", \"radialaxis\": {\"gridcolor\": \"white\", \"linecolor\": \"white\", \"ticks\": \"\"}}, \"scene\": {\"xaxis\": {\"backgroundcolor\": \"#E5ECF6\", \"gridcolor\": \"white\", \"gridwidth\": 2, \"linecolor\": \"white\", \"showbackground\": true, \"ticks\": \"\", \"zerolinecolor\": \"white\"}, \"yaxis\": {\"backgroundcolor\": \"#E5ECF6\", \"gridcolor\": \"white\", \"gridwidth\": 2, \"linecolor\": \"white\", \"showbackground\": true, \"ticks\": \"\", \"zerolinecolor\": \"white\"}, \"zaxis\": {\"backgroundcolor\": \"#E5ECF6\", \"gridcolor\": \"white\", \"gridwidth\": 2, \"linecolor\": \"white\", \"showbackground\": true, \"ticks\": \"\", \"zerolinecolor\": \"white\"}}, \"shapedefaults\": {\"line\": {\"color\": \"#2a3f5f\"}}, \"ternary\": {\"aaxis\": {\"gridcolor\": \"white\", \"linecolor\": \"white\", \"ticks\": \"\"}, \"baxis\": {\"gridcolor\": \"white\", \"linecolor\": \"white\", \"ticks\": \"\"}, \"bgcolor\": \"#E5ECF6\", \"caxis\": {\"gridcolor\": \"white\", \"linecolor\": \"white\", \"ticks\": \"\"}}, \"title\": {\"x\": 0.05}, \"xaxis\": {\"automargin\": true, \"gridcolor\": \"white\", \"linecolor\": \"white\", \"ticks\": \"\", \"title\": {\"standoff\": 15}, \"zerolinecolor\": \"white\", \"zerolinewidth\": 2}, \"yaxis\": {\"automargin\": true, \"gridcolor\": \"white\", \"linecolor\": \"white\", \"ticks\": \"\", \"title\": {\"standoff\": 15}, \"zerolinecolor\": \"white\", \"zerolinewidth\": 2}}}, \"title\": {\"text\": \"Suicide Rate by Gender from 2000 - 2017\"}, \"xaxis\": {\"anchor\": \"y\", \"domain\": [0.0, 1.0], \"title\": {\"text\": \"Year\"}}, \"yaxis\": {\"anchor\": \"x\", \"domain\": [0.0, 1.0], \"title\": {\"text\": \"Rate\"}}},\n",
       "                        {\"responsive\": true}\n",
       "                    ).then(function(){\n",
       "                            \n",
       "var gd = document.getElementById('1ec5a6a3-544b-4bf4-bd9a-8fddcd560bf6');\n",
       "var x = new MutationObserver(function (mutations, observer) {{\n",
       "        var display = window.getComputedStyle(gd).display;\n",
       "        if (!display || display === 'none') {{\n",
       "            console.log([gd, 'removed!']);\n",
       "            Plotly.purge(gd);\n",
       "            observer.disconnect();\n",
       "        }}\n",
       "}});\n",
       "\n",
       "// Listen for the removal of the full notebook cells\n",
       "var notebookContainer = gd.closest('#notebook-container');\n",
       "if (notebookContainer) {{\n",
       "    x.observe(notebookContainer, {childList: true});\n",
       "}}\n",
       "\n",
       "// Listen for the clearing of the current output cell\n",
       "var outputEl = gd.closest('.output');\n",
       "if (outputEl) {{\n",
       "    x.observe(outputEl, {childList: true});\n",
       "}}\n",
       "\n",
       "                        })\n",
       "                };\n",
       "                });\n",
       "            </script>\n",
       "        </div>"
      ]
     },
     "metadata": {},
     "output_type": "display_data"
    }
   ],
   "source": [
    "# using plotly\n",
    "import plotly.express as px\n",
    "# create a function to select specific dataset\n",
    "def select_df(var):\n",
    "    california=df[df.Geography=='CALIFORNIA']\n",
    "    return california[california['Strata Name']==var]\n",
    "# apply the funtion above to obtian aimed datasets\n",
    "female=select_df('Female')[:18]\n",
    "male=select_df('Male')[:18]\n",
    "# concate the datasets\n",
    "gender=pd.concat([female,male])\n",
    "# line plot using plotly\n",
    "fig = px.line( gender,x=\"Year\", y=\"Rate\", color='Strata Name',title='Suicide Rate by Gender from 2000 - 2017')\n",
    "fig.show()"
   ]
  },
  {
   "cell_type": "code",
   "execution_count": 32,
   "metadata": {},
   "outputs": [],
   "source": [
    "# # save it as an interactive chart\n",
    "# py.plot(fig, filename = 'gender', auto_open=True)"
   ]
  },
  {
   "cell_type": "code",
   "execution_count": 33,
   "metadata": {},
   "outputs": [],
   "source": [
    "# # create a function for it \n",
    "# def save_to_chart_studio(fig,title):\n",
    "#     return py.plot(fig, filename = title, auto_open=True)"
   ]
  },
  {
   "cell_type": "code",
   "execution_count": 34,
   "metadata": {},
   "outputs": [
    {
     "data": {
      "text/html": [
       "<div>\n",
       "<style scoped>\n",
       "    .dataframe tbody tr th:only-of-type {\n",
       "        vertical-align: middle;\n",
       "    }\n",
       "\n",
       "    .dataframe tbody tr th {\n",
       "        vertical-align: top;\n",
       "    }\n",
       "\n",
       "    .dataframe thead th {\n",
       "        text-align: right;\n",
       "    }\n",
       "</style>\n",
       "<table border=\"1\" class=\"dataframe\">\n",
       "  <thead>\n",
       "    <tr style=\"text-align: right;\">\n",
       "      <th></th>\n",
       "      <th>Indicator</th>\n",
       "      <th>Geography</th>\n",
       "      <th>Year</th>\n",
       "      <th>Strata</th>\n",
       "      <th>Strata Name</th>\n",
       "      <th>Numerator</th>\n",
       "      <th>Denominator</th>\n",
       "      <th>Rate</th>\n",
       "      <th>Age Adjusted Rate</th>\n",
       "    </tr>\n",
       "  </thead>\n",
       "  <tbody>\n",
       "    <tr>\n",
       "      <th>0</th>\n",
       "      <td>Suicide</td>\n",
       "      <td>CALIFORNIA</td>\n",
       "      <td>2000</td>\n",
       "      <td>Sex</td>\n",
       "      <td>Female</td>\n",
       "      <td>682</td>\n",
       "      <td>17080000</td>\n",
       "      <td>3.993</td>\n",
       "      <td>4.067</td>\n",
       "    </tr>\n",
       "    <tr>\n",
       "      <th>3</th>\n",
       "      <td>Suicide</td>\n",
       "      <td>CALIFORNIA</td>\n",
       "      <td>2001</td>\n",
       "      <td>Sex</td>\n",
       "      <td>Female</td>\n",
       "      <td>685</td>\n",
       "      <td>17340000</td>\n",
       "      <td>3.950</td>\n",
       "      <td>4.005</td>\n",
       "    </tr>\n",
       "    <tr>\n",
       "      <th>6</th>\n",
       "      <td>Suicide</td>\n",
       "      <td>CALIFORNIA</td>\n",
       "      <td>2002</td>\n",
       "      <td>Sex</td>\n",
       "      <td>Female</td>\n",
       "      <td>710</td>\n",
       "      <td>17550000</td>\n",
       "      <td>4.045</td>\n",
       "      <td>4.088</td>\n",
       "    </tr>\n",
       "    <tr>\n",
       "      <th>9</th>\n",
       "      <td>Suicide</td>\n",
       "      <td>CALIFORNIA</td>\n",
       "      <td>2003</td>\n",
       "      <td>Sex</td>\n",
       "      <td>Female</td>\n",
       "      <td>733</td>\n",
       "      <td>17780000</td>\n",
       "      <td>4.122</td>\n",
       "      <td>4.150</td>\n",
       "    </tr>\n",
       "    <tr>\n",
       "      <th>12</th>\n",
       "      <td>Suicide</td>\n",
       "      <td>CALIFORNIA</td>\n",
       "      <td>2004</td>\n",
       "      <td>Sex</td>\n",
       "      <td>Female</td>\n",
       "      <td>821</td>\n",
       "      <td>17970000</td>\n",
       "      <td>4.569</td>\n",
       "      <td>4.576</td>\n",
       "    </tr>\n",
       "  </tbody>\n",
       "</table>\n",
       "</div>"
      ],
      "text/plain": [
       "   Indicator   Geography  Year Strata Strata Name  Numerator  Denominator  \\\n",
       "0    Suicide  CALIFORNIA  2000    Sex      Female        682     17080000   \n",
       "3    Suicide  CALIFORNIA  2001    Sex      Female        685     17340000   \n",
       "6    Suicide  CALIFORNIA  2002    Sex      Female        710     17550000   \n",
       "9    Suicide  CALIFORNIA  2003    Sex      Female        733     17780000   \n",
       "12   Suicide  CALIFORNIA  2004    Sex      Female        821     17970000   \n",
       "\n",
       "     Rate  Age Adjusted Rate  \n",
       "0   3.993              4.067  \n",
       "3   3.950              4.005  \n",
       "6   4.045              4.088  \n",
       "9   4.122              4.150  \n",
       "12  4.569              4.576  "
      ]
     },
     "execution_count": 34,
     "metadata": {},
     "output_type": "execute_result"
    }
   ],
   "source": [
    "gender.head()"
   ]
  },
  {
   "cell_type": "code",
   "execution_count": 35,
   "metadata": {
    "scrolled": false
   },
   "outputs": [
    {
     "data": {
      "image/png": "[encoded data removed]",
      "text/plain": [
       "<Figure size 864x432 with 1 Axes>"
      ]
     },
     "metadata": {},
     "output_type": "display_data"
    }
   ],
   "source": [
    "# using matpltlib to make a line plot\n",
    "plt.figure(figsize=(12,6))\n",
    "sns.lineplot( x=\"Year\", y=\"Rate\",data=gender,hue='Strata Name')\n",
    "plt.title('Suicide Rate by Gender from 2000 - 2017')\n",
    "plt.xticks(rotation=90)\n",
    "plt.legend(loc='best')\n",
    "plt.show()"
   ]
  },
  {
   "cell_type": "code",
   "execution_count": 36,
   "metadata": {
    "scrolled": true
   },
   "outputs": [
    {
     "name": "stdout",
     "output_type": "stream",
     "text": [
      "Mean of Male suicide rate: 15.285555555555558\n",
      "Mean of Female suicide rate: 4.490333333333333\n",
      "3.4041026402395276\n"
     ]
    }
   ],
   "source": [
    "print(\"Mean of Male suicide rate: {}\".format(np.mean(male.Rate)))\n",
    "print(\"Mean of Female suicide rate: {}\".format(np.mean(female.Rate))) \n",
    "# male suicide rate is round 3.4 times of female suicide rate \n",
    "print(np.mean(male.Rate)/np.mean(female.Rate))"
   ]
  },
  {
   "cell_type": "code",
   "execution_count": 37,
   "metadata": {},
   "outputs": [],
   "source": [
    "# Why more men than women die by suicide \n",
    "# https://www.bbc.com/future/article/20190313-why-more-men-kill-themselves-than-women\n",
    "#men may be less likely to admit when they feel vulnerable, whether to themselves, \n",
    "#friends, or a GP. They also can be more reticent than women to see a doctor. \n",
    "#A UK British Medical Journal study found general primary care consultation rates were 32% lower in men than women.\n",
    "#(Consultation rates for depression, assessed by whether patients received antidepressant prescriptions, \n",
    "#were 8% lower in men than women)."
   ]
  },
  {
   "cell_type": "markdown",
   "metadata": {},
   "source": [
    "# Suicide Rate  in California (total)"
   ]
  },
  {
   "cell_type": "code",
   "execution_count": 42,
   "metadata": {
    "scrolled": false
   },
   "outputs": [
    {
     "data": {
      "text/plain": [
       "Text(0.5, 1.0, 'Trend of Suicide Rate in California')"
      ]
     },
     "execution_count": 42,
     "metadata": {},
     "output_type": "execute_result"
    },
    {
     "data": {
      "image/png": "[encoded data removed]",
      "text/plain": [
       "<Figure size 720x360 with 1 Axes>"
      ]
     },
     "metadata": {},
     "output_type": "display_data"
    }
   ],
   "source": [
    "california=pd.read_csv('data/suicide-lghc-indicator-21.csv').iloc[:54]\n",
    "california.groupby('Year')['Rate'].mean().plot(kind='line',figsize=(10,5))\n",
    "plt.title('Trend of Suicide Rate in California',fontsize=20)"
   ]
  },
  {
   "cell_type": "code",
   "execution_count": 30,
   "metadata": {},
   "outputs": [
    {
     "data": {
      "application/vnd.plotly.v1+json": {
       "config": {
        "plotlyServerURL": "https://plotly.com"
       },
       "data": [
        {
         "hovertemplate": "Year=%{x}<br>Rate=%{y}<extra></extra>",
         "legendgroup": "",
         "line": {
          "color": "#636efa",
          "dash": "solid"
         },
         "mode": "lines",
         "name": "",
         "showlegend": false,
         "type": "scatter",
         "x": [
          "2000",
          "2001",
          "2002",
          "2003",
          "2004",
          "2005",
          "2006",
          "2007",
          "2008",
          "2009",
          "2010",
          "2011",
          "2012",
          "2013",
          "2014",
          "2015",
          "2016",
          "2017",
          "2000-2002",
          "2003-2005",
          "2006-2008",
          "2009-2011",
          "2012-2014",
          "2015-2017"
         ],
         "xaxis": "x",
         "y": [
          9.156,
          9.434,
          9.187999999999999,
          9.596,
          9.408999999999999,
          8.673,
          8.936,
          9.533999999999999,
          10.01,
          10.08,
          10.19,
          10.46,
          10.05,
          10.2,
          10.67,
          10.54,
          10.7,
          10.66,
          9.259,
          9.224,
          9.497,
          10.24,
          10.31,
          10.63
         ],
         "yaxis": "y"
        }
       ],
       "layout": {
        "legend": {
         "tracegroupgap": 0
        },
        "template": {
         "data": {
          "bar": [
           {
            "error_x": {
             "color": "#2a3f5f"
            },
            "error_y": {
             "color": "#2a3f5f"
            },
            "marker": {
             "line": {
              "color": "#E5ECF6",
              "width": 0.5
             }
            },
            "type": "bar"
           }
          ],
          "barpolar": [
           {
            "marker": {
             "line": {
              "color": "#E5ECF6",
              "width": 0.5
             }
            },
            "type": "barpolar"
           }
          ],
          "carpet": [
           {
            "aaxis": {
             "endlinecolor": "#2a3f5f",
             "gridcolor": "white",
             "linecolor": "white",
             "minorgridcolor": "white",
             "startlinecolor": "#2a3f5f"
            },
            "baxis": {
             "endlinecolor": "#2a3f5f",
             "gridcolor": "white",
             "linecolor": "white",
             "minorgridcolor": "white",
             "startlinecolor": "#2a3f5f"
            },
            "type": "carpet"
           }
          ],
          "choropleth": [
           {
            "colorbar": {
             "outlinewidth": 0,
             "ticks": ""
            },
            "type": "choropleth"
           }
          ],
          "contour": [
           {
            "colorbar": {
             "outlinewidth": 0,
             "ticks": ""
            },
            "colorscale": [
             [
              0,
              "#0d0887"
             ],
             [
              0.1111111111111111,
              "#46039f"
             ],
             [
              0.2222222222222222,
              "#7201a8"
             ],
             [
              0.3333333333333333,
              "#9c179e"
             ],
             [
              0.4444444444444444,
              "#bd3786"
             ],
             [
              0.5555555555555556,
              "#d8576b"
             ],
             [
              0.6666666666666666,
              "#ed7953"
             ],
             [
              0.7777777777777778,
              "#fb9f3a"
             ],
             [
              0.8888888888888888,
              "#fdca26"
             ],
             [
              1,
              "#f0f921"
             ]
            ],
            "type": "contour"
           }
          ],
          "contourcarpet": [
           {
            "colorbar": {
             "outlinewidth": 0,
             "ticks": ""
            },
            "type": "contourcarpet"
           }
          ],
          "heatmap": [
           {
            "colorbar": {
             "outlinewidth": 0,
             "ticks": ""
            },
            "colorscale": [
             [
              0,
              "#0d0887"
             ],
             [
              0.1111111111111111,
              "#46039f"
             ],
             [
              0.2222222222222222,
              "#7201a8"
             ],
             [
              0.3333333333333333,
              "#9c179e"
             ],
             [
              0.4444444444444444,
              "#bd3786"
             ],
             [
              0.5555555555555556,
              "#d8576b"
             ],
             [
              0.6666666666666666,
              "#ed7953"
             ],
             [
              0.7777777777777778,
              "#fb9f3a"
             ],
             [
              0.8888888888888888,
              "#fdca26"
             ],
             [
              1,
              "#f0f921"
             ]
            ],
            "type": "heatmap"
           }
          ],
          "heatmapgl": [
           {
            "colorbar": {
             "outlinewidth": 0,
             "ticks": ""
            },
            "colorscale": [
             [
              0,
              "#0d0887"
             ],
             [
              0.1111111111111111,
              "#46039f"
             ],
             [
              0.2222222222222222,
              "#7201a8"
             ],
             [
              0.3333333333333333,
              "#9c179e"
             ],
             [
              0.4444444444444444,
              "#bd3786"
             ],
             [
              0.5555555555555556,
              "#d8576b"
             ],
             [
              0.6666666666666666,
              "#ed7953"
             ],
             [
              0.7777777777777778,
              "#fb9f3a"
             ],
             [
              0.8888888888888888,
              "#fdca26"
             ],
             [
              1,
              "#f0f921"
             ]
            ],
            "type": "heatmapgl"
           }
          ],
          "histogram": [
           {
            "marker": {
             "colorbar": {
              "outlinewidth": 0,
              "ticks": ""
             }
            },
            "type": "histogram"
           }
          ],
          "histogram2d": [
           {
            "colorbar": {
             "outlinewidth": 0,
             "ticks": ""
            },
            "colorscale": [
             [
              0,
              "#0d0887"
             ],
             [
              0.1111111111111111,
              "#46039f"
             ],
             [
              0.2222222222222222,
              "#7201a8"
             ],
             [
              0.3333333333333333,
              "#9c179e"
             ],
             [
              0.4444444444444444,
              "#bd3786"
             ],
             [
              0.5555555555555556,
              "#d8576b"
             ],
             [
              0.6666666666666666,
              "#ed7953"
             ],
             [
              0.7777777777777778,
              "#fb9f3a"
             ],
             [
              0.8888888888888888,
              "#fdca26"
             ],
             [
              1,
              "#f0f921"
             ]
            ],
            "type": "histogram2d"
           }
          ],
          "histogram2dcontour": [
           {
            "colorbar": {
             "outlinewidth": 0,
             "ticks": ""
            },
            "colorscale": [
             [
              0,
              "#0d0887"
             ],
             [
              0.1111111111111111,
              "#46039f"
             ],
             [
              0.2222222222222222,
              "#7201a8"
             ],
             [
              0.3333333333333333,
              "#9c179e"
             ],
             [
              0.4444444444444444,
              "#bd3786"
             ],
             [
              0.5555555555555556,
              "#d8576b"
             ],
             [
              0.6666666666666666,
              "#ed7953"
             ],
             [
              0.7777777777777778,
              "#fb9f3a"
             ],
             [
              0.8888888888888888,
              "#fdca26"
             ],
             [
              1,
              "#f0f921"
             ]
            ],
            "type": "histogram2dcontour"
           }
          ],
          "mesh3d": [
           {
            "colorbar": {
             "outlinewidth": 0,
             "ticks": ""
            },
            "type": "mesh3d"
           }
          ],
          "parcoords": [
           {
            "line": {
             "colorbar": {
              "outlinewidth": 0,
              "ticks": ""
             }
            },
            "type": "parcoords"
           }
          ],
          "pie": [
           {
            "automargin": true,
            "type": "pie"
           }
          ],
          "scatter": [
           {
            "marker": {
             "colorbar": {
              "outlinewidth": 0,
              "ticks": ""
             }
            },
            "type": "scatter"
           }
          ],
          "scatter3d": [
           {
            "line": {
             "colorbar": {
              "outlinewidth": 0,
              "ticks": ""
             }
            },
            "marker": {
             "colorbar": {
              "outlinewidth": 0,
              "ticks": ""
             }
            },
            "type": "scatter3d"
           }
          ],
          "scattercarpet": [
           {
            "marker": {
             "colorbar": {
              "outlinewidth": 0,
              "ticks": ""
             }
            },
            "type": "scattercarpet"
           }
          ],
          "scattergeo": [
           {
            "marker": {
             "colorbar": {
              "outlinewidth": 0,
              "ticks": ""
             }
            },
            "type": "scattergeo"
           }
          ],
          "scattergl": [
           {
            "marker": {
             "colorbar": {
              "outlinewidth": 0,
              "ticks": ""
             }
            },
            "type": "scattergl"
           }
          ],
          "scattermapbox": [
           {
            "marker": {
             "colorbar": {
              "outlinewidth": 0,
              "ticks": ""
             }
            },
            "type": "scattermapbox"
           }
          ],
          "scatterpolar": [
           {
            "marker": {
             "colorbar": {
              "outlinewidth": 0,
              "ticks": ""
             }
            },
            "type": "scatterpolar"
           }
          ],
          "scatterpolargl": [
           {
            "marker": {
             "colorbar": {
              "outlinewidth": 0,
              "ticks": ""
             }
            },
            "type": "scatterpolargl"
           }
          ],
          "scatterternary": [
           {
            "marker": {
             "colorbar": {
              "outlinewidth": 0,
              "ticks": ""
             }
            },
            "type": "scatterternary"
           }
          ],
          "surface": [
           {
            "colorbar": {
             "outlinewidth": 0,
             "ticks": ""
            },
            "colorscale": [
             [
              0,
              "#0d0887"
             ],
             [
              0.1111111111111111,
              "#46039f"
             ],
             [
              0.2222222222222222,
              "#7201a8"
             ],
             [
              0.3333333333333333,
              "#9c179e"
             ],
             [
              0.4444444444444444,
              "#bd3786"
             ],
             [
              0.5555555555555556,
              "#d8576b"
             ],
             [
              0.6666666666666666,
              "#ed7953"
             ],
             [
              0.7777777777777778,
              "#fb9f3a"
             ],
             [
              0.8888888888888888,
              "#fdca26"
             ],
             [
              1,
              "#f0f921"
             ]
            ],
            "type": "surface"
           }
          ],
          "table": [
           {
            "cells": {
             "fill": {
              "color": "#EBF0F8"
             },
             "line": {
              "color": "white"
             }
            },
            "header": {
             "fill": {
              "color": "#C8D4E3"
             },
             "line": {
              "color": "white"
             }
            },
            "type": "table"
           }
          ]
         },
         "layout": {
          "annotationdefaults": {
           "arrowcolor": "#2a3f5f",
           "arrowhead": 0,
           "arrowwidth": 1
          },
          "coloraxis": {
           "colorbar": {
            "outlinewidth": 0,
            "ticks": ""
           }
          },
          "colorscale": {
           "diverging": [
            [
             0,
             "#8e0152"
            ],
            [
             0.1,
             "#c51b7d"
            ],
            [
             0.2,
             "#de77ae"
            ],
            [
             0.3,
             "#f1b6da"
            ],
            [
             0.4,
             "#fde0ef"
            ],
            [
             0.5,
             "#f7f7f7"
            ],
            [
             0.6,
             "#e6f5d0"
            ],
            [
             0.7,
             "#b8e186"
            ],
            [
             0.8,
             "#7fbc41"
            ],
            [
             0.9,
             "#4d9221"
            ],
            [
             1,
             "#276419"
            ]
           ],
           "sequential": [
            [
             0,
             "#0d0887"
            ],
            [
             0.1111111111111111,
             "#46039f"
            ],
            [
             0.2222222222222222,
             "#7201a8"
            ],
            [
             0.3333333333333333,
             "#9c179e"
            ],
            [
             0.4444444444444444,
             "#bd3786"
            ],
            [
             0.5555555555555556,
             "#d8576b"
            ],
            [
             0.6666666666666666,
             "#ed7953"
            ],
            [
             0.7777777777777778,
             "#fb9f3a"
            ],
            [
             0.8888888888888888,
             "#fdca26"
            ],
            [
             1,
             "#f0f921"
            ]
           ],
           "sequentialminus": [
            [
             0,
             "#0d0887"
            ],
            [
             0.1111111111111111,
             "#46039f"
            ],
            [
             0.2222222222222222,
             "#7201a8"
            ],
            [
             0.3333333333333333,
             "#9c179e"
            ],
            [
             0.4444444444444444,
             "#bd3786"
            ],
            [
             0.5555555555555556,
             "#d8576b"
            ],
            [
             0.6666666666666666,
             "#ed7953"
            ],
            [
             0.7777777777777778,
             "#fb9f3a"
            ],
            [
             0.8888888888888888,
             "#fdca26"
            ],
            [
             1,
             "#f0f921"
            ]
           ]
          },
          "colorway": [
           "#636efa",
           "#EF553B",
           "#00cc96",
           "#ab63fa",
           "#FFA15A",
           "#19d3f3",
           "#FF6692",
           "#B6E880",
           "#FF97FF",
           "#FECB52"
          ],
          "font": {
           "color": "#2a3f5f"
          },
          "geo": {
           "bgcolor": "white",
           "lakecolor": "white",
           "landcolor": "#E5ECF6",
           "showlakes": true,
           "showland": true,
           "subunitcolor": "white"
          },
          "hoverlabel": {
           "align": "left"
          },
          "hovermode": "closest",
          "mapbox": {
           "style": "light"
          },
          "paper_bgcolor": "white",
          "plot_bgcolor": "#E5ECF6",
          "polar": {
           "angularaxis": {
            "gridcolor": "white",
            "linecolor": "white",
            "ticks": ""
           },
           "bgcolor": "#E5ECF6",
           "radialaxis": {
            "gridcolor": "white",
            "linecolor": "white",
            "ticks": ""
           }
          },
          "scene": {
           "xaxis": {
            "backgroundcolor": "#E5ECF6",
            "gridcolor": "white",
            "gridwidth": 2,
            "linecolor": "white",
            "showbackground": true,
            "ticks": "",
            "zerolinecolor": "white"
           },
           "yaxis": {
            "backgroundcolor": "#E5ECF6",
            "gridcolor": "white",
            "gridwidth": 2,
            "linecolor": "white",
            "showbackground": true,
            "ticks": "",
            "zerolinecolor": "white"
           },
           "zaxis": {
            "backgroundcolor": "#E5ECF6",
            "gridcolor": "white",
            "gridwidth": 2,
            "linecolor": "white",
            "showbackground": true,
            "ticks": "",
            "zerolinecolor": "white"
           }
          },
          "shapedefaults": {
           "line": {
            "color": "#2a3f5f"
           }
          },
          "ternary": {
           "aaxis": {
            "gridcolor": "white",
            "linecolor": "white",
            "ticks": ""
           },
           "baxis": {
            "gridcolor": "white",
            "linecolor": "white",
            "ticks": ""
           },
           "bgcolor": "#E5ECF6",
           "caxis": {
            "gridcolor": "white",
            "linecolor": "white",
            "ticks": ""
           }
          },
          "title": {
           "x": 0.05
          },
          "xaxis": {
           "automargin": true,
           "gridcolor": "white",
           "linecolor": "white",
           "ticks": "",
           "title": {
            "standoff": 15
           },
           "zerolinecolor": "white",
           "zerolinewidth": 2
          },
          "yaxis": {
           "automargin": true,
           "gridcolor": "white",
           "linecolor": "white",
           "ticks": "",
           "title": {
            "standoff": 15
           },
           "zerolinecolor": "white",
           "zerolinewidth": 2
          }
         }
        },
        "title": {
         "text": "Trend of Suicide Rate in California"
        },
        "xaxis": {
         "anchor": "y",
         "domain": [
          0,
          1
         ],
         "title": {
          "text": "Year"
         }
        },
        "yaxis": {
         "anchor": "x",
         "domain": [
          0,
          1
         ],
         "title": {
          "text": "Rate"
         }
        }
       }
      },
      "text/html": [
       "<div>\n",
       "        \n",
       "        \n",
       "            <div id=\"194b9f55-70a5-4a57-9395-f7b935e08967\" class=\"plotly-graph-div\" style=\"height:525px; width:100%;\"></div>\n",
       "            <script type=\"text/javascript\">\n",
       "                require([\"plotly\"], function(Plotly) {\n",
       "                    window.PLOTLYENV=window.PLOTLYENV || {};\n",
       "                    \n",
       "                if (document.getElementById(\"194b9f55-70a5-4a57-9395-f7b935e08967\")) {\n",
       "                    Plotly.newPlot(\n",
       "                        '194b9f55-70a5-4a57-9395-f7b935e08967',\n",
       "                        [{\"hovertemplate\": \"Year=%{x}<br>Rate=%{y}<extra></extra>\", \"legendgroup\": \"\", \"line\": {\"color\": \"#636efa\", \"dash\": \"solid\"}, \"mode\": \"lines\", \"name\": \"\", \"showlegend\": false, \"type\": \"scatter\", \"x\": [\"2000\", \"2001\", \"2002\", \"2003\", \"2004\", \"2005\", \"2006\", \"2007\", \"2008\", \"2009\", \"2010\", \"2011\", \"2012\", \"2013\", \"2014\", \"2015\", \"2016\", \"2017\", \"2000-2002\", \"2003-2005\", \"2006-2008\", \"2009-2011\", \"2012-2014\", \"2015-2017\"], \"xaxis\": \"x\", \"y\": [9.156, 9.434, 9.187999999999999, 9.596, 9.408999999999999, 8.673, 8.936, 9.533999999999999, 10.01, 10.08, 10.19, 10.46, 10.05, 10.2, 10.67, 10.54, 10.7, 10.66, 9.259, 9.224, 9.497, 10.24, 10.31, 10.63], \"yaxis\": \"y\"}],\n",
       "                        {\"legend\": {\"tracegroupgap\": 0}, \"template\": {\"data\": {\"bar\": [{\"error_x\": {\"color\": \"#2a3f5f\"}, \"error_y\": {\"color\": \"#2a3f5f\"}, \"marker\": {\"line\": {\"color\": \"#E5ECF6\", \"width\": 0.5}}, \"type\": \"bar\"}], \"barpolar\": [{\"marker\": {\"line\": {\"color\": \"#E5ECF6\", \"width\": 0.5}}, \"type\": \"barpolar\"}], \"carpet\": [{\"aaxis\": {\"endlinecolor\": \"#2a3f5f\", \"gridcolor\": \"white\", \"linecolor\": \"white\", \"minorgridcolor\": \"white\", \"startlinecolor\": \"#2a3f5f\"}, \"baxis\": {\"endlinecolor\": \"#2a3f5f\", \"gridcolor\": \"white\", \"linecolor\": \"white\", \"minorgridcolor\": \"white\", \"startlinecolor\": \"#2a3f5f\"}, \"type\": \"carpet\"}], \"choropleth\": [{\"colorbar\": {\"outlinewidth\": 0, \"ticks\": \"\"}, \"type\": \"choropleth\"}], \"contour\": [{\"colorbar\": {\"outlinewidth\": 0, \"ticks\": \"\"}, \"colorscale\": [[0.0, \"#0d0887\"], [0.1111111111111111, \"#46039f\"], [0.2222222222222222, \"#7201a8\"], [0.3333333333333333, \"#9c179e\"], [0.4444444444444444, \"#bd3786\"], [0.5555555555555556, \"#d8576b\"], [0.6666666666666666, \"#ed7953\"], [0.7777777777777778, \"#fb9f3a\"], [0.8888888888888888, \"#fdca26\"], [1.0, \"#f0f921\"]], \"type\": \"contour\"}], \"contourcarpet\": [{\"colorbar\": {\"outlinewidth\": 0, \"ticks\": \"\"}, \"type\": \"contourcarpet\"}], \"heatmap\": [{\"colorbar\": {\"outlinewidth\": 0, \"ticks\": \"\"}, \"colorscale\": [[0.0, \"#0d0887\"], [0.1111111111111111, \"#46039f\"], [0.2222222222222222, \"#7201a8\"], [0.3333333333333333, \"#9c179e\"], [0.4444444444444444, \"#bd3786\"], [0.5555555555555556, \"#d8576b\"], [0.6666666666666666, \"#ed7953\"], [0.7777777777777778, \"#fb9f3a\"], [0.8888888888888888, \"#fdca26\"], [1.0, \"#f0f921\"]], \"type\": \"heatmap\"}], \"heatmapgl\": [{\"colorbar\": {\"outlinewidth\": 0, \"ticks\": \"\"}, \"colorscale\": [[0.0, \"#0d0887\"], [0.1111111111111111, \"#46039f\"], [0.2222222222222222, \"#7201a8\"], [0.3333333333333333, \"#9c179e\"], [0.4444444444444444, \"#bd3786\"], [0.5555555555555556, \"#d8576b\"], [0.6666666666666666, \"#ed7953\"], [0.7777777777777778, \"#fb9f3a\"], [0.8888888888888888, \"#fdca26\"], [1.0, \"#f0f921\"]], \"type\": \"heatmapgl\"}], \"histogram\": [{\"marker\": {\"colorbar\": {\"outlinewidth\": 0, \"ticks\": \"\"}}, \"type\": \"histogram\"}], \"histogram2d\": [{\"colorbar\": {\"outlinewidth\": 0, \"ticks\": \"\"}, \"colorscale\": [[0.0, \"#0d0887\"], [0.1111111111111111, \"#46039f\"], [0.2222222222222222, \"#7201a8\"], [0.3333333333333333, \"#9c179e\"], [0.4444444444444444, \"#bd3786\"], [0.5555555555555556, \"#d8576b\"], [0.6666666666666666, \"#ed7953\"], [0.7777777777777778, \"#fb9f3a\"], [0.8888888888888888, \"#fdca26\"], [1.0, \"#f0f921\"]], \"type\": \"histogram2d\"}], \"histogram2dcontour\": [{\"colorbar\": {\"outlinewidth\": 0, \"ticks\": \"\"}, \"colorscale\": [[0.0, \"#0d0887\"], [0.1111111111111111, \"#46039f\"], [0.2222222222222222, \"#7201a8\"], [0.3333333333333333, \"#9c179e\"], [0.4444444444444444, \"#bd3786\"], [0.5555555555555556, \"#d8576b\"], [0.6666666666666666, \"#ed7953\"], [0.7777777777777778, \"#fb9f3a\"], [0.8888888888888888, \"#fdca26\"], [1.0, \"#f0f921\"]], \"type\": \"histogram2dcontour\"}], \"mesh3d\": [{\"colorbar\": {\"outlinewidth\": 0, \"ticks\": \"\"}, \"type\": \"mesh3d\"}], \"parcoords\": [{\"line\": {\"colorbar\": {\"outlinewidth\": 0, \"ticks\": \"\"}}, \"type\": \"parcoords\"}], \"pie\": [{\"automargin\": true, \"type\": \"pie\"}], \"scatter\": [{\"marker\": {\"colorbar\": {\"outlinewidth\": 0, \"ticks\": \"\"}}, \"type\": \"scatter\"}], \"scatter3d\": [{\"line\": {\"colorbar\": {\"outlinewidth\": 0, \"ticks\": \"\"}}, \"marker\": {\"colorbar\": {\"outlinewidth\": 0, \"ticks\": \"\"}}, \"type\": \"scatter3d\"}], \"scattercarpet\": [{\"marker\": {\"colorbar\": {\"outlinewidth\": 0, \"ticks\": \"\"}}, \"type\": \"scattercarpet\"}], \"scattergeo\": [{\"marker\": {\"colorbar\": {\"outlinewidth\": 0, \"ticks\": \"\"}}, \"type\": \"scattergeo\"}], \"scattergl\": [{\"marker\": {\"colorbar\": {\"outlinewidth\": 0, \"ticks\": \"\"}}, \"type\": \"scattergl\"}], \"scattermapbox\": [{\"marker\": {\"colorbar\": {\"outlinewidth\": 0, \"ticks\": \"\"}}, \"type\": \"scattermapbox\"}], \"scatterpolar\": [{\"marker\": {\"colorbar\": {\"outlinewidth\": 0, \"ticks\": \"\"}}, \"type\": \"scatterpolar\"}], \"scatterpolargl\": [{\"marker\": {\"colorbar\": {\"outlinewidth\": 0, \"ticks\": \"\"}}, \"type\": \"scatterpolargl\"}], \"scatterternary\": [{\"marker\": {\"colorbar\": {\"outlinewidth\": 0, \"ticks\": \"\"}}, \"type\": \"scatterternary\"}], \"surface\": [{\"colorbar\": {\"outlinewidth\": 0, \"ticks\": \"\"}, \"colorscale\": [[0.0, \"#0d0887\"], [0.1111111111111111, \"#46039f\"], [0.2222222222222222, \"#7201a8\"], [0.3333333333333333, \"#9c179e\"], [0.4444444444444444, \"#bd3786\"], [0.5555555555555556, \"#d8576b\"], [0.6666666666666666, \"#ed7953\"], [0.7777777777777778, \"#fb9f3a\"], [0.8888888888888888, \"#fdca26\"], [1.0, \"#f0f921\"]], \"type\": \"surface\"}], \"table\": [{\"cells\": {\"fill\": {\"color\": \"#EBF0F8\"}, \"line\": {\"color\": \"white\"}}, \"header\": {\"fill\": {\"color\": \"#C8D4E3\"}, \"line\": {\"color\": \"white\"}}, \"type\": \"table\"}]}, \"layout\": {\"annotationdefaults\": {\"arrowcolor\": \"#2a3f5f\", \"arrowhead\": 0, \"arrowwidth\": 1}, \"coloraxis\": {\"colorbar\": {\"outlinewidth\": 0, \"ticks\": \"\"}}, \"colorscale\": {\"diverging\": [[0, \"#8e0152\"], [0.1, \"#c51b7d\"], [0.2, \"#de77ae\"], [0.3, \"#f1b6da\"], [0.4, \"#fde0ef\"], [0.5, \"#f7f7f7\"], [0.6, \"#e6f5d0\"], [0.7, \"#b8e186\"], [0.8, \"#7fbc41\"], [0.9, \"#4d9221\"], [1, \"#276419\"]], \"sequential\": [[0.0, \"#0d0887\"], [0.1111111111111111, \"#46039f\"], [0.2222222222222222, \"#7201a8\"], [0.3333333333333333, \"#9c179e\"], [0.4444444444444444, \"#bd3786\"], [0.5555555555555556, \"#d8576b\"], [0.6666666666666666, \"#ed7953\"], [0.7777777777777778, \"#fb9f3a\"], [0.8888888888888888, \"#fdca26\"], [1.0, \"#f0f921\"]], \"sequentialminus\": [[0.0, \"#0d0887\"], [0.1111111111111111, \"#46039f\"], [0.2222222222222222, \"#7201a8\"], [0.3333333333333333, \"#9c179e\"], [0.4444444444444444, \"#bd3786\"], [0.5555555555555556, \"#d8576b\"], [0.6666666666666666, \"#ed7953\"], [0.7777777777777778, \"#fb9f3a\"], [0.8888888888888888, \"#fdca26\"], [1.0, \"#f0f921\"]]}, \"colorway\": [\"#636efa\", \"#EF553B\", \"#00cc96\", \"#ab63fa\", \"#FFA15A\", \"#19d3f3\", \"#FF6692\", \"#B6E880\", \"#FF97FF\", \"#FECB52\"], \"font\": {\"color\": \"#2a3f5f\"}, \"geo\": {\"bgcolor\": \"white\", \"lakecolor\": \"white\", \"landcolor\": \"#E5ECF6\", \"showlakes\": true, \"showland\": true, \"subunitcolor\": \"white\"}, \"hoverlabel\": {\"align\": \"left\"}, \"hovermode\": \"closest\", \"mapbox\": {\"style\": \"light\"}, \"paper_bgcolor\": \"white\", \"plot_bgcolor\": \"#E5ECF6\", \"polar\": {\"angularaxis\": {\"gridcolor\": \"white\", \"linecolor\": \"white\", \"ticks\": \"\"}, \"bgcolor\": \"#E5ECF6\", \"radialaxis\": {\"gridcolor\": \"white\", \"linecolor\": \"white\", \"ticks\": \"\"}}, \"scene\": {\"xaxis\": {\"backgroundcolor\": \"#E5ECF6\", \"gridcolor\": \"white\", \"gridwidth\": 2, \"linecolor\": \"white\", \"showbackground\": true, \"ticks\": \"\", \"zerolinecolor\": \"white\"}, \"yaxis\": {\"backgroundcolor\": \"#E5ECF6\", \"gridcolor\": \"white\", \"gridwidth\": 2, \"linecolor\": \"white\", \"showbackground\": true, \"ticks\": \"\", \"zerolinecolor\": \"white\"}, \"zaxis\": {\"backgroundcolor\": \"#E5ECF6\", \"gridcolor\": \"white\", \"gridwidth\": 2, \"linecolor\": \"white\", \"showbackground\": true, \"ticks\": \"\", \"zerolinecolor\": \"white\"}}, \"shapedefaults\": {\"line\": {\"color\": \"#2a3f5f\"}}, \"ternary\": {\"aaxis\": {\"gridcolor\": \"white\", \"linecolor\": \"white\", \"ticks\": \"\"}, \"baxis\": {\"gridcolor\": \"white\", \"linecolor\": \"white\", \"ticks\": \"\"}, \"bgcolor\": \"#E5ECF6\", \"caxis\": {\"gridcolor\": \"white\", \"linecolor\": \"white\", \"ticks\": \"\"}}, \"title\": {\"x\": 0.05}, \"xaxis\": {\"automargin\": true, \"gridcolor\": \"white\", \"linecolor\": \"white\", \"ticks\": \"\", \"title\": {\"standoff\": 15}, \"zerolinecolor\": \"white\", \"zerolinewidth\": 2}, \"yaxis\": {\"automargin\": true, \"gridcolor\": \"white\", \"linecolor\": \"white\", \"ticks\": \"\", \"title\": {\"standoff\": 15}, \"zerolinecolor\": \"white\", \"zerolinewidth\": 2}}}, \"title\": {\"text\": \"Trend of Suicide Rate in California\"}, \"xaxis\": {\"anchor\": \"y\", \"domain\": [0.0, 1.0], \"title\": {\"text\": \"Year\"}}, \"yaxis\": {\"anchor\": \"x\", \"domain\": [0.0, 1.0], \"title\": {\"text\": \"Rate\"}}},\n",
       "                        {\"responsive\": true}\n",
       "                    ).then(function(){\n",
       "                            \n",
       "var gd = document.getElementById('194b9f55-70a5-4a57-9395-f7b935e08967');\n",
       "var x = new MutationObserver(function (mutations, observer) {{\n",
       "        var display = window.getComputedStyle(gd).display;\n",
       "        if (!display || display === 'none') {{\n",
       "            console.log([gd, 'removed!']);\n",
       "            Plotly.purge(gd);\n",
       "            observer.disconnect();\n",
       "        }}\n",
       "}});\n",
       "\n",
       "// Listen for the removal of the full notebook cells\n",
       "var notebookContainer = gd.closest('#notebook-container');\n",
       "if (notebookContainer) {{\n",
       "    x.observe(notebookContainer, {childList: true});\n",
       "}}\n",
       "\n",
       "// Listen for the clearing of the current output cell\n",
       "var outputEl = gd.closest('.output');\n",
       "if (outputEl) {{\n",
       "    x.observe(outputEl, {childList: true});\n",
       "}}\n",
       "\n",
       "                        })\n",
       "                };\n",
       "                });\n",
       "            </script>\n",
       "        </div>"
      ]
     },
     "metadata": {},
     "output_type": "display_data"
    }
   ],
   "source": [
    "# using plotly\n",
    "total=select_df('Total')\n",
    "fig = px.line(total, x=\"Year\", y=\"Rate\", title='Trend of Suicide Rate in California')\n",
    "fig.show()"
   ]
  },
  {
   "cell_type": "code",
   "execution_count": 31,
   "metadata": {},
   "outputs": [
    {
     "data": {
      "text/plain": [
       "'https://plotly.com/~melaniesoek/24/'"
      ]
     },
     "execution_count": 31,
     "metadata": {},
     "output_type": "execute_result"
    }
   ],
   "source": [
    "# use the function I just created above to save it to plotly online chart studio \n",
    "save_to_chart_studio(fig,\"Trend of Suicide Rate in California\")"
   ]
  },
  {
   "cell_type": "code",
   "execution_count": 699,
   "metadata": {},
   "outputs": [],
   "source": [
    "#https://www.bbc.com/future/article/20190313-why-more-men-kill-themselves-than-women"
   ]
  },
  {
   "cell_type": "markdown",
   "metadata": {},
   "source": [
    "# Race/Ethnicity"
   ]
  },
  {
   "cell_type": "code",
   "execution_count": 47,
   "metadata": {
    "scrolled": false
   },
   "outputs": [
    {
     "data": {
      "image/png": "[encoded data removed]",
      "text/plain": [
       "<Figure size 1080x720 with 7 Axes>"
      ]
     },
     "metadata": {},
     "output_type": "display_data"
    }
   ],
   "source": [
    "ethnic=pd.DataFrame(df[df['Strata']=='Race/Ethnicity'].sort_values(by='Year').groupby(['Strata Name','Year'])['Rate'].mean()).reset_index()\n",
    "# plot trend of suicide rate by race \n",
    "plt.figure(figsize=(15,10))\n",
    "for i in range(len(list(set(ethnic['Strata Name'])))):\n",
    "    plt.subplot(2,4,i+1)\n",
    "    sns.barplot('Year','Rate',data=ethnic[ethnic['Strata Name']==list(set(ethnic['Strata Name']))[i]],ci=None)\n",
    "    sns.lineplot('Year','Rate',data=ethnic[ethnic['Strata Name']==list(set(ethnic['Strata Name']))[i]])\n",
    "    plt.xticks(rotation=90)\n",
    "    plt.title('{}'.format(list(set(ethnic['Strata Name']))[i]))\n",
    "    plt.tight_layout()"
   ]
  },
  {
   "cell_type": "code",
   "execution_count": 48,
   "metadata": {},
   "outputs": [
    {
     "data": {
      "application/vnd.plotly.v1+json": {
       "config": {
        "plotlyServerURL": "https://plotly.com"
       },
       "data": [
        {
         "hovertemplate": "Strata Name=AIAN-NH<br>Year=%{x}<br>Rate=%{y}<extra></extra>",
         "legendgroup": "AIAN-NH",
         "line": {
          "color": "#636efa",
          "dash": "solid"
         },
         "mode": "lines",
         "name": "AIAN-NH",
         "showlegend": true,
         "type": "scatter",
         "x": [
          "2000-2002",
          "2003-2005",
          "2006-2008",
          "2009-2011",
          "2012-2014",
          "2015-2017"
         ],
         "xaxis": "x",
         "y": [
          7.718999999999999,
          8.865,
          9.211,
          11.73,
          11.7,
          14.13
         ],
         "yaxis": "y"
        },
        {
         "hovertemplate": "Strata Name=Asian-NH<br>Year=%{x}<br>Rate=%{y}<extra></extra>",
         "legendgroup": "Asian-NH",
         "line": {
          "color": "#EF553B",
          "dash": "solid"
         },
         "mode": "lines",
         "name": "Asian-NH",
         "showlegend": true,
         "type": "scatter",
         "x": [
          "2000-2002",
          "2003-2005",
          "2006-2008",
          "2009-2011",
          "2012-2014",
          "2015-2017"
         ],
         "xaxis": "x",
         "y": [
          5.912583333333333,
          5.967461538461539,
          6.418785714285713,
          7.141000000000001,
          6.2459375,
          7.449235294117647
         ],
         "yaxis": "y"
        },
        {
         "hovertemplate": "Strata Name=Black-NH<br>Year=%{x}<br>Rate=%{y}<extra></extra>",
         "legendgroup": "Black-NH",
         "line": {
          "color": "#00cc96",
          "dash": "solid"
         },
         "mode": "lines",
         "name": "Black-NH",
         "showlegend": true,
         "type": "scatter",
         "x": [
          "2000-2002",
          "2003-2005",
          "2006-2008",
          "2009-2011",
          "2012-2014",
          "2015-2017"
         ],
         "xaxis": "x",
         "y": [
          6.873545454545454,
          6.152666666666666,
          7.3187000000000015,
          6.663222222222223,
          7.064272727272726,
          7.366818181818183
         ],
         "yaxis": "y"
        },
        {
         "hovertemplate": "Strata Name=Hisp<br>Year=%{x}<br>Rate=%{y}<extra></extra>",
         "legendgroup": "Hisp",
         "line": {
          "color": "#ab63fa",
          "dash": "solid"
         },
         "mode": "lines",
         "name": "Hisp",
         "showlegend": true,
         "type": "scatter",
         "x": [
          "2000-2002",
          "2003-2005",
          "2006-2008",
          "2009-2011",
          "2012-2014",
          "2015-2017"
         ],
         "xaxis": "x",
         "y": [
          4.186285714285714,
          4.787624999999999,
          4.335874999999999,
          5.095,
          4.949518518518517,
          6.079500000000001
         ],
         "yaxis": "y"
        },
        {
         "hovertemplate": "Strata Name=Multi-NH<br>Year=%{x}<br>Rate=%{y}<extra></extra>",
         "legendgroup": "Multi-NH",
         "line": {
          "color": "#FFA15A",
          "dash": "solid"
         },
         "mode": "lines",
         "name": "Multi-NH",
         "showlegend": true,
         "type": "scatter",
         "x": [
          "2000-2002",
          "2003-2005",
          "2006-2008",
          "2009-2011",
          "2012-2014",
          "2015-2017"
         ],
         "xaxis": "x",
         "y": [
          2.088,
          4.095666666666666,
          6.161199999999999,
          6.1745,
          8.214000000000002,
          8.594000000000001
         ],
         "yaxis": "y"
        },
        {
         "hovertemplate": "Strata Name=NHPI-NH<br>Year=%{x}<br>Rate=%{y}<extra></extra>",
         "legendgroup": "NHPI-NH",
         "line": {
          "color": "#19d3f3",
          "dash": "solid"
         },
         "mode": "lines",
         "name": "NHPI-NH",
         "showlegend": true,
         "type": "scatter",
         "x": [
          "2000-2002",
          "2003-2005",
          "2006-2008",
          "2009-2011",
          "2012-2014",
          "2015-2017"
         ],
         "xaxis": "x",
         "y": [
          7.59,
          9.139,
          7.961,
          10.53,
          9.804,
          9.196
         ],
         "yaxis": "y"
        },
        {
         "hovertemplate": "Strata Name=White-NH<br>Year=%{x}<br>Rate=%{y}<extra></extra>",
         "legendgroup": "White-NH",
         "line": {
          "color": "#FF6692",
          "dash": "solid"
         },
         "mode": "lines",
         "name": "White-NH",
         "showlegend": true,
         "type": "scatter",
         "x": [
          "2000-2002",
          "2003-2005",
          "2006-2008",
          "2009-2011",
          "2012-2014",
          "2015-2017"
         ],
         "xaxis": "x",
         "y": [
          17.60604166666667,
          17.193181818181817,
          17.841162790697673,
          19.73717391304348,
          21.19717391304348,
          21.82
         ],
         "yaxis": "y"
        }
       ],
       "layout": {
        "legend": {
         "title": {
          "text": "Strata Name"
         },
         "tracegroupgap": 0
        },
        "template": {
         "data": {
          "bar": [
           {
            "error_x": {
             "color": "#2a3f5f"
            },
            "error_y": {
             "color": "#2a3f5f"
            },
            "marker": {
             "line": {
              "color": "#E5ECF6",
              "width": 0.5
             }
            },
            "type": "bar"
           }
          ],
          "barpolar": [
           {
            "marker": {
             "line": {
              "color": "#E5ECF6",
              "width": 0.5
             }
            },
            "type": "barpolar"
           }
          ],
          "carpet": [
           {
            "aaxis": {
             "endlinecolor": "#2a3f5f",
             "gridcolor": "white",
             "linecolor": "white",
             "minorgridcolor": "white",
             "startlinecolor": "#2a3f5f"
            },
            "baxis": {
             "endlinecolor": "#2a3f5f",
             "gridcolor": "white",
             "linecolor": "white",
             "minorgridcolor": "white",
             "startlinecolor": "#2a3f5f"
            },
            "type": "carpet"
           }
          ],
          "choropleth": [
           {
            "colorbar": {
             "outlinewidth": 0,
             "ticks": ""
            },
            "type": "choropleth"
           }
          ],
          "contour": [
           {
            "colorbar": {
             "outlinewidth": 0,
             "ticks": ""
            },
            "colorscale": [
             [
              0,
              "#0d0887"
             ],
             [
              0.1111111111111111,
              "#46039f"
             ],
             [
              0.2222222222222222,
              "#7201a8"
             ],
             [
              0.3333333333333333,
              "#9c179e"
             ],
             [
              0.4444444444444444,
              "#bd3786"
             ],
             [
              0.5555555555555556,
              "#d8576b"
             ],
             [
              0.6666666666666666,
              "#ed7953"
             ],
             [
              0.7777777777777778,
              "#fb9f3a"
             ],
             [
              0.8888888888888888,
              "#fdca26"
             ],
             [
              1,
              "#f0f921"
             ]
            ],
            "type": "contour"
           }
          ],
          "contourcarpet": [
           {
            "colorbar": {
             "outlinewidth": 0,
             "ticks": ""
            },
            "type": "contourcarpet"
           }
          ],
          "heatmap": [
           {
            "colorbar": {
             "outlinewidth": 0,
             "ticks": ""
            },
            "colorscale": [
             [
              0,
              "#0d0887"
             ],
             [
              0.1111111111111111,
              "#46039f"
             ],
             [
              0.2222222222222222,
              "#7201a8"
             ],
             [
              0.3333333333333333,
              "#9c179e"
             ],
             [
              0.4444444444444444,
              "#bd3786"
             ],
             [
              0.5555555555555556,
              "#d8576b"
             ],
             [
              0.6666666666666666,
              "#ed7953"
             ],
             [
              0.7777777777777778,
              "#fb9f3a"
             ],
             [
              0.8888888888888888,
              "#fdca26"
             ],
             [
              1,
              "#f0f921"
             ]
            ],
            "type": "heatmap"
           }
          ],
          "heatmapgl": [
           {
            "colorbar": {
             "outlinewidth": 0,
             "ticks": ""
            },
            "colorscale": [
             [
              0,
              "#0d0887"
             ],
             [
              0.1111111111111111,
              "#46039f"
             ],
             [
              0.2222222222222222,
              "#7201a8"
             ],
             [
              0.3333333333333333,
              "#9c179e"
             ],
             [
              0.4444444444444444,
              "#bd3786"
             ],
             [
              0.5555555555555556,
              "#d8576b"
             ],
             [
              0.6666666666666666,
              "#ed7953"
             ],
             [
              0.7777777777777778,
              "#fb9f3a"
             ],
             [
              0.8888888888888888,
              "#fdca26"
             ],
             [
              1,
              "#f0f921"
             ]
            ],
            "type": "heatmapgl"
           }
          ],
          "histogram": [
           {
            "marker": {
             "colorbar": {
              "outlinewidth": 0,
              "ticks": ""
             }
            },
            "type": "histogram"
           }
          ],
          "histogram2d": [
           {
            "colorbar": {
             "outlinewidth": 0,
             "ticks": ""
            },
            "colorscale": [
             [
              0,
              "#0d0887"
             ],
             [
              0.1111111111111111,
              "#46039f"
             ],
             [
              0.2222222222222222,
              "#7201a8"
             ],
             [
              0.3333333333333333,
              "#9c179e"
             ],
             [
              0.4444444444444444,
              "#bd3786"
             ],
             [
              0.5555555555555556,
              "#d8576b"
             ],
             [
              0.6666666666666666,
              "#ed7953"
             ],
             [
              0.7777777777777778,
              "#fb9f3a"
             ],
             [
              0.8888888888888888,
              "#fdca26"
             ],
             [
              1,
              "#f0f921"
             ]
            ],
            "type": "histogram2d"
           }
          ],
          "histogram2dcontour": [
           {
            "colorbar": {
             "outlinewidth": 0,
             "ticks": ""
            },
            "colorscale": [
             [
              0,
              "#0d0887"
             ],
             [
              0.1111111111111111,
              "#46039f"
             ],
             [
              0.2222222222222222,
              "#7201a8"
             ],
             [
              0.3333333333333333,
              "#9c179e"
             ],
             [
              0.4444444444444444,
              "#bd3786"
             ],
             [
              0.5555555555555556,
              "#d8576b"
             ],
             [
              0.6666666666666666,
              "#ed7953"
             ],
             [
              0.7777777777777778,
              "#fb9f3a"
             ],
             [
              0.8888888888888888,
              "#fdca26"
             ],
             [
              1,
              "#f0f921"
             ]
            ],
            "type": "histogram2dcontour"
           }
          ],
          "mesh3d": [
           {
            "colorbar": {
             "outlinewidth": 0,
             "ticks": ""
            },
            "type": "mesh3d"
           }
          ],
          "parcoords": [
           {
            "line": {
             "colorbar": {
              "outlinewidth": 0,
              "ticks": ""
             }
            },
            "type": "parcoords"
           }
          ],
          "pie": [
           {
            "automargin": true,
            "type": "pie"
           }
          ],
          "scatter": [
           {
            "marker": {
             "colorbar": {
              "outlinewidth": 0,
              "ticks": ""
             }
            },
            "type": "scatter"
           }
          ],
          "scatter3d": [
           {
            "line": {
             "colorbar": {
              "outlinewidth": 0,
              "ticks": ""
             }
            },
            "marker": {
             "colorbar": {
              "outlinewidth": 0,
              "ticks": ""
             }
            },
            "type": "scatter3d"
           }
          ],
          "scattercarpet": [
           {
            "marker": {
             "colorbar": {
              "outlinewidth": 0,
              "ticks": ""
             }
            },
            "type": "scattercarpet"
           }
          ],
          "scattergeo": [
           {
            "marker": {
             "colorbar": {
              "outlinewidth": 0,
              "ticks": ""
             }
            },
            "type": "scattergeo"
           }
          ],
          "scattergl": [
           {
            "marker": {
             "colorbar": {
              "outlinewidth": 0,
              "ticks": ""
             }
            },
            "type": "scattergl"
           }
          ],
          "scattermapbox": [
           {
            "marker": {
             "colorbar": {
              "outlinewidth": 0,
              "ticks": ""
             }
            },
            "type": "scattermapbox"
           }
          ],
          "scatterpolar": [
           {
            "marker": {
             "colorbar": {
              "outlinewidth": 0,
              "ticks": ""
             }
            },
            "type": "scatterpolar"
           }
          ],
          "scatterpolargl": [
           {
            "marker": {
             "colorbar": {
              "outlinewidth": 0,
              "ticks": ""
             }
            },
            "type": "scatterpolargl"
           }
          ],
          "scatterternary": [
           {
            "marker": {
             "colorbar": {
              "outlinewidth": 0,
              "ticks": ""
             }
            },
            "type": "scatterternary"
           }
          ],
          "surface": [
           {
            "colorbar": {
             "outlinewidth": 0,
             "ticks": ""
            },
            "colorscale": [
             [
              0,
              "#0d0887"
             ],
             [
              0.1111111111111111,
              "#46039f"
             ],
             [
              0.2222222222222222,
              "#7201a8"
             ],
             [
              0.3333333333333333,
              "#9c179e"
             ],
             [
              0.4444444444444444,
              "#bd3786"
             ],
             [
              0.5555555555555556,
              "#d8576b"
             ],
             [
              0.6666666666666666,
              "#ed7953"
             ],
             [
              0.7777777777777778,
              "#fb9f3a"
             ],
             [
              0.8888888888888888,
              "#fdca26"
             ],
             [
              1,
              "#f0f921"
             ]
            ],
            "type": "surface"
           }
          ],
          "table": [
           {
            "cells": {
             "fill": {
              "color": "#EBF0F8"
             },
             "line": {
              "color": "white"
             }
            },
            "header": {
             "fill": {
              "color": "#C8D4E3"
             },
             "line": {
              "color": "white"
             }
            },
            "type": "table"
           }
          ]
         },
         "layout": {
          "annotationdefaults": {
           "arrowcolor": "#2a3f5f",
           "arrowhead": 0,
           "arrowwidth": 1
          },
          "coloraxis": {
           "colorbar": {
            "outlinewidth": 0,
            "ticks": ""
           }
          },
          "colorscale": {
           "diverging": [
            [
             0,
             "#8e0152"
            ],
            [
             0.1,
             "#c51b7d"
            ],
            [
             0.2,
             "#de77ae"
            ],
            [
             0.3,
             "#f1b6da"
            ],
            [
             0.4,
             "#fde0ef"
            ],
            [
             0.5,
             "#f7f7f7"
            ],
            [
             0.6,
             "#e6f5d0"
            ],
            [
             0.7,
             "#b8e186"
            ],
            [
             0.8,
             "#7fbc41"
            ],
            [
             0.9,
             "#4d9221"
            ],
            [
             1,
             "#276419"
            ]
           ],
           "sequential": [
            [
             0,
             "#0d0887"
            ],
            [
             0.1111111111111111,
             "#46039f"
            ],
            [
             0.2222222222222222,
             "#7201a8"
            ],
            [
             0.3333333333333333,
             "#9c179e"
            ],
            [
             0.4444444444444444,
             "#bd3786"
            ],
            [
             0.5555555555555556,
             "#d8576b"
            ],
            [
             0.6666666666666666,
             "#ed7953"
            ],
            [
             0.7777777777777778,
             "#fb9f3a"
            ],
            [
             0.8888888888888888,
             "#fdca26"
            ],
            [
             1,
             "#f0f921"
            ]
           ],
           "sequentialminus": [
            [
             0,
             "#0d0887"
            ],
            [
             0.1111111111111111,
             "#46039f"
            ],
            [
             0.2222222222222222,
             "#7201a8"
            ],
            [
             0.3333333333333333,
             "#9c179e"
            ],
            [
             0.4444444444444444,
             "#bd3786"
            ],
            [
             0.5555555555555556,
             "#d8576b"
            ],
            [
             0.6666666666666666,
             "#ed7953"
            ],
            [
             0.7777777777777778,
             "#fb9f3a"
            ],
            [
             0.8888888888888888,
             "#fdca26"
            ],
            [
             1,
             "#f0f921"
            ]
           ]
          },
          "colorway": [
           "#636efa",
           "#EF553B",
           "#00cc96",
           "#ab63fa",
           "#FFA15A",
           "#19d3f3",
           "#FF6692",
           "#B6E880",
           "#FF97FF",
           "#FECB52"
          ],
          "font": {
           "color": "#2a3f5f"
          },
          "geo": {
           "bgcolor": "white",
           "lakecolor": "white",
           "landcolor": "#E5ECF6",
           "showlakes": true,
           "showland": true,
           "subunitcolor": "white"
          },
          "hoverlabel": {
           "align": "left"
          },
          "hovermode": "closest",
          "mapbox": {
           "style": "light"
          },
          "paper_bgcolor": "white",
          "plot_bgcolor": "#E5ECF6",
          "polar": {
           "angularaxis": {
            "gridcolor": "white",
            "linecolor": "white",
            "ticks": ""
           },
           "bgcolor": "#E5ECF6",
           "radialaxis": {
            "gridcolor": "white",
            "linecolor": "white",
            "ticks": ""
           }
          },
          "scene": {
           "xaxis": {
            "backgroundcolor": "#E5ECF6",
            "gridcolor": "white",
            "gridwidth": 2,
            "linecolor": "white",
            "showbackground": true,
            "ticks": "",
            "zerolinecolor": "white"
           },
           "yaxis": {
            "backgroundcolor": "#E5ECF6",
            "gridcolor": "white",
            "gridwidth": 2,
            "linecolor": "white",
            "showbackground": true,
            "ticks": "",
            "zerolinecolor": "white"
           },
           "zaxis": {
            "backgroundcolor": "#E5ECF6",
            "gridcolor": "white",
            "gridwidth": 2,
            "linecolor": "white",
            "showbackground": true,
            "ticks": "",
            "zerolinecolor": "white"
           }
          },
          "shapedefaults": {
           "line": {
            "color": "#2a3f5f"
           }
          },
          "ternary": {
           "aaxis": {
            "gridcolor": "white",
            "linecolor": "white",
            "ticks": ""
           },
           "baxis": {
            "gridcolor": "white",
            "linecolor": "white",
            "ticks": ""
           },
           "bgcolor": "#E5ECF6",
           "caxis": {
            "gridcolor": "white",
            "linecolor": "white",
            "ticks": ""
           }
          },
          "title": {
           "x": 0.05
          },
          "xaxis": {
           "automargin": true,
           "gridcolor": "white",
           "linecolor": "white",
           "ticks": "",
           "title": {
            "standoff": 15
           },
           "zerolinecolor": "white",
           "zerolinewidth": 2
          },
          "yaxis": {
           "automargin": true,
           "gridcolor": "white",
           "linecolor": "white",
           "ticks": "",
           "title": {
            "standoff": 15
           },
           "zerolinecolor": "white",
           "zerolinewidth": 2
          }
         }
        },
        "title": {
         "text": "Suicide Rate by Race"
        },
        "xaxis": {
         "anchor": "y",
         "domain": [
          0,
          1
         ],
         "title": {
          "text": "Year"
         }
        },
        "yaxis": {
         "anchor": "x",
         "domain": [
          0,
          1
         ],
         "title": {
          "text": "Rate"
         }
        }
       }
      },
      "text/html": [
       "<div>\n",
       "        \n",
       "        \n",
       "            <div id=\"a0cdc454-3a61-4a2b-ad6b-46e7ee5534bf\" class=\"plotly-graph-div\" style=\"height:525px; width:100%;\"></div>\n",
       "            <script type=\"text/javascript\">\n",
       "                require([\"plotly\"], function(Plotly) {\n",
       "                    window.PLOTLYENV=window.PLOTLYENV || {};\n",
       "                    \n",
       "                if (document.getElementById(\"a0cdc454-3a61-4a2b-ad6b-46e7ee5534bf\")) {\n",
       "                    Plotly.newPlot(\n",
       "                        'a0cdc454-3a61-4a2b-ad6b-46e7ee5534bf',\n",
       "                        [{\"hovertemplate\": \"Strata Name=AIAN-NH<br>Year=%{x}<br>Rate=%{y}<extra></extra>\", \"legendgroup\": \"AIAN-NH\", \"line\": {\"color\": \"#636efa\", \"dash\": \"solid\"}, \"mode\": \"lines\", \"name\": \"AIAN-NH\", \"showlegend\": true, \"type\": \"scatter\", \"x\": [\"2000-2002\", \"2003-2005\", \"2006-2008\", \"2009-2011\", \"2012-2014\", \"2015-2017\"], \"xaxis\": \"x\", \"y\": [7.718999999999999, 8.865, 9.211, 11.73, 11.7, 14.13], \"yaxis\": \"y\"}, {\"hovertemplate\": \"Strata Name=Asian-NH<br>Year=%{x}<br>Rate=%{y}<extra></extra>\", \"legendgroup\": \"Asian-NH\", \"line\": {\"color\": \"#EF553B\", \"dash\": \"solid\"}, \"mode\": \"lines\", \"name\": \"Asian-NH\", \"showlegend\": true, \"type\": \"scatter\", \"x\": [\"2000-2002\", \"2003-2005\", \"2006-2008\", \"2009-2011\", \"2012-2014\", \"2015-2017\"], \"xaxis\": \"x\", \"y\": [5.912583333333333, 5.967461538461539, 6.418785714285713, 7.141000000000001, 6.2459375, 7.449235294117647], \"yaxis\": \"y\"}, {\"hovertemplate\": \"Strata Name=Black-NH<br>Year=%{x}<br>Rate=%{y}<extra></extra>\", \"legendgroup\": \"Black-NH\", \"line\": {\"color\": \"#00cc96\", \"dash\": \"solid\"}, \"mode\": \"lines\", \"name\": \"Black-NH\", \"showlegend\": true, \"type\": \"scatter\", \"x\": [\"2000-2002\", \"2003-2005\", \"2006-2008\", \"2009-2011\", \"2012-2014\", \"2015-2017\"], \"xaxis\": \"x\", \"y\": [6.873545454545454, 6.152666666666666, 7.3187000000000015, 6.663222222222223, 7.064272727272726, 7.366818181818183], \"yaxis\": \"y\"}, {\"hovertemplate\": \"Strata Name=Hisp<br>Year=%{x}<br>Rate=%{y}<extra></extra>\", \"legendgroup\": \"Hisp\", \"line\": {\"color\": \"#ab63fa\", \"dash\": \"solid\"}, \"mode\": \"lines\", \"name\": \"Hisp\", \"showlegend\": true, \"type\": \"scatter\", \"x\": [\"2000-2002\", \"2003-2005\", \"2006-2008\", \"2009-2011\", \"2012-2014\", \"2015-2017\"], \"xaxis\": \"x\", \"y\": [4.186285714285714, 4.787624999999999, 4.335874999999999, 5.095, 4.949518518518517, 6.079500000000001], \"yaxis\": \"y\"}, {\"hovertemplate\": \"Strata Name=Multi-NH<br>Year=%{x}<br>Rate=%{y}<extra></extra>\", \"legendgroup\": \"Multi-NH\", \"line\": {\"color\": \"#FFA15A\", \"dash\": \"solid\"}, \"mode\": \"lines\", \"name\": \"Multi-NH\", \"showlegend\": true, \"type\": \"scatter\", \"x\": [\"2000-2002\", \"2003-2005\", \"2006-2008\", \"2009-2011\", \"2012-2014\", \"2015-2017\"], \"xaxis\": \"x\", \"y\": [2.088, 4.095666666666666, 6.161199999999999, 6.1745, 8.214000000000002, 8.594000000000001], \"yaxis\": \"y\"}, {\"hovertemplate\": \"Strata Name=NHPI-NH<br>Year=%{x}<br>Rate=%{y}<extra></extra>\", \"legendgroup\": \"NHPI-NH\", \"line\": {\"color\": \"#19d3f3\", \"dash\": \"solid\"}, \"mode\": \"lines\", \"name\": \"NHPI-NH\", \"showlegend\": true, \"type\": \"scatter\", \"x\": [\"2000-2002\", \"2003-2005\", \"2006-2008\", \"2009-2011\", \"2012-2014\", \"2015-2017\"], \"xaxis\": \"x\", \"y\": [7.59, 9.139, 7.961, 10.53, 9.804, 9.196], \"yaxis\": \"y\"}, {\"hovertemplate\": \"Strata Name=White-NH<br>Year=%{x}<br>Rate=%{y}<extra></extra>\", \"legendgroup\": \"White-NH\", \"line\": {\"color\": \"#FF6692\", \"dash\": \"solid\"}, \"mode\": \"lines\", \"name\": \"White-NH\", \"showlegend\": true, \"type\": \"scatter\", \"x\": [\"2000-2002\", \"2003-2005\", \"2006-2008\", \"2009-2011\", \"2012-2014\", \"2015-2017\"], \"xaxis\": \"x\", \"y\": [17.60604166666667, 17.193181818181817, 17.841162790697673, 19.73717391304348, 21.19717391304348, 21.82], \"yaxis\": \"y\"}],\n",
       "                        {\"legend\": {\"title\": {\"text\": \"Strata Name\"}, \"tracegroupgap\": 0}, \"template\": {\"data\": {\"bar\": [{\"error_x\": {\"color\": \"#2a3f5f\"}, \"error_y\": {\"color\": \"#2a3f5f\"}, \"marker\": {\"line\": {\"color\": \"#E5ECF6\", \"width\": 0.5}}, \"type\": \"bar\"}], \"barpolar\": [{\"marker\": {\"line\": {\"color\": \"#E5ECF6\", \"width\": 0.5}}, \"type\": \"barpolar\"}], \"carpet\": [{\"aaxis\": {\"endlinecolor\": \"#2a3f5f\", \"gridcolor\": \"white\", \"linecolor\": \"white\", \"minorgridcolor\": \"white\", \"startlinecolor\": \"#2a3f5f\"}, \"baxis\": {\"endlinecolor\": \"#2a3f5f\", \"gridcolor\": \"white\", \"linecolor\": \"white\", \"minorgridcolor\": \"white\", \"startlinecolor\": \"#2a3f5f\"}, \"type\": \"carpet\"}], \"choropleth\": [{\"colorbar\": {\"outlinewidth\": 0, \"ticks\": \"\"}, \"type\": \"choropleth\"}], \"contour\": [{\"colorbar\": {\"outlinewidth\": 0, \"ticks\": \"\"}, \"colorscale\": [[0.0, \"#0d0887\"], [0.1111111111111111, \"#46039f\"], [0.2222222222222222, \"#7201a8\"], [0.3333333333333333, \"#9c179e\"], [0.4444444444444444, \"#bd3786\"], [0.5555555555555556, \"#d8576b\"], [0.6666666666666666, \"#ed7953\"], [0.7777777777777778, \"#fb9f3a\"], [0.8888888888888888, \"#fdca26\"], [1.0, \"#f0f921\"]], \"type\": \"contour\"}], \"contourcarpet\": [{\"colorbar\": {\"outlinewidth\": 0, \"ticks\": \"\"}, \"type\": \"contourcarpet\"}], \"heatmap\": [{\"colorbar\": {\"outlinewidth\": 0, \"ticks\": \"\"}, \"colorscale\": [[0.0, \"#0d0887\"], [0.1111111111111111, \"#46039f\"], [0.2222222222222222, \"#7201a8\"], [0.3333333333333333, \"#9c179e\"], [0.4444444444444444, \"#bd3786\"], [0.5555555555555556, \"#d8576b\"], [0.6666666666666666, \"#ed7953\"], [0.7777777777777778, \"#fb9f3a\"], [0.8888888888888888, \"#fdca26\"], [1.0, \"#f0f921\"]], \"type\": \"heatmap\"}], \"heatmapgl\": [{\"colorbar\": {\"outlinewidth\": 0, \"ticks\": \"\"}, \"colorscale\": [[0.0, \"#0d0887\"], [0.1111111111111111, \"#46039f\"], [0.2222222222222222, \"#7201a8\"], [0.3333333333333333, \"#9c179e\"], [0.4444444444444444, \"#bd3786\"], [0.5555555555555556, \"#d8576b\"], [0.6666666666666666, \"#ed7953\"], [0.7777777777777778, \"#fb9f3a\"], [0.8888888888888888, \"#fdca26\"], [1.0, \"#f0f921\"]], \"type\": \"heatmapgl\"}], \"histogram\": [{\"marker\": {\"colorbar\": {\"outlinewidth\": 0, \"ticks\": \"\"}}, \"type\": \"histogram\"}], \"histogram2d\": [{\"colorbar\": {\"outlinewidth\": 0, \"ticks\": \"\"}, \"colorscale\": [[0.0, \"#0d0887\"], [0.1111111111111111, \"#46039f\"], [0.2222222222222222, \"#7201a8\"], [0.3333333333333333, \"#9c179e\"], [0.4444444444444444, \"#bd3786\"], [0.5555555555555556, \"#d8576b\"], [0.6666666666666666, \"#ed7953\"], [0.7777777777777778, \"#fb9f3a\"], [0.8888888888888888, \"#fdca26\"], [1.0, \"#f0f921\"]], \"type\": \"histogram2d\"}], \"histogram2dcontour\": [{\"colorbar\": {\"outlinewidth\": 0, \"ticks\": \"\"}, \"colorscale\": [[0.0, \"#0d0887\"], [0.1111111111111111, \"#46039f\"], [0.2222222222222222, \"#7201a8\"], [0.3333333333333333, \"#9c179e\"], [0.4444444444444444, \"#bd3786\"], [0.5555555555555556, \"#d8576b\"], [0.6666666666666666, \"#ed7953\"], [0.7777777777777778, \"#fb9f3a\"], [0.8888888888888888, \"#fdca26\"], [1.0, \"#f0f921\"]], \"type\": \"histogram2dcontour\"}], \"mesh3d\": [{\"colorbar\": {\"outlinewidth\": 0, \"ticks\": \"\"}, \"type\": \"mesh3d\"}], \"parcoords\": [{\"line\": {\"colorbar\": {\"outlinewidth\": 0, \"ticks\": \"\"}}, \"type\": \"parcoords\"}], \"pie\": [{\"automargin\": true, \"type\": \"pie\"}], \"scatter\": [{\"marker\": {\"colorbar\": {\"outlinewidth\": 0, \"ticks\": \"\"}}, \"type\": \"scatter\"}], \"scatter3d\": [{\"line\": {\"colorbar\": {\"outlinewidth\": 0, \"ticks\": \"\"}}, \"marker\": {\"colorbar\": {\"outlinewidth\": 0, \"ticks\": \"\"}}, \"type\": \"scatter3d\"}], \"scattercarpet\": [{\"marker\": {\"colorbar\": {\"outlinewidth\": 0, \"ticks\": \"\"}}, \"type\": \"scattercarpet\"}], \"scattergeo\": [{\"marker\": {\"colorbar\": {\"outlinewidth\": 0, \"ticks\": \"\"}}, \"type\": \"scattergeo\"}], \"scattergl\": [{\"marker\": {\"colorbar\": {\"outlinewidth\": 0, \"ticks\": \"\"}}, \"type\": \"scattergl\"}], \"scattermapbox\": [{\"marker\": {\"colorbar\": {\"outlinewidth\": 0, \"ticks\": \"\"}}, \"type\": \"scattermapbox\"}], \"scatterpolar\": [{\"marker\": {\"colorbar\": {\"outlinewidth\": 0, \"ticks\": \"\"}}, \"type\": \"scatterpolar\"}], \"scatterpolargl\": [{\"marker\": {\"colorbar\": {\"outlinewidth\": 0, \"ticks\": \"\"}}, \"type\": \"scatterpolargl\"}], \"scatterternary\": [{\"marker\": {\"colorbar\": {\"outlinewidth\": 0, \"ticks\": \"\"}}, \"type\": \"scatterternary\"}], \"surface\": [{\"colorbar\": {\"outlinewidth\": 0, \"ticks\": \"\"}, \"colorscale\": [[0.0, \"#0d0887\"], [0.1111111111111111, \"#46039f\"], [0.2222222222222222, \"#7201a8\"], [0.3333333333333333, \"#9c179e\"], [0.4444444444444444, \"#bd3786\"], [0.5555555555555556, \"#d8576b\"], [0.6666666666666666, \"#ed7953\"], [0.7777777777777778, \"#fb9f3a\"], [0.8888888888888888, \"#fdca26\"], [1.0, \"#f0f921\"]], \"type\": \"surface\"}], \"table\": [{\"cells\": {\"fill\": {\"color\": \"#EBF0F8\"}, \"line\": {\"color\": \"white\"}}, \"header\": {\"fill\": {\"color\": \"#C8D4E3\"}, \"line\": {\"color\": \"white\"}}, \"type\": \"table\"}]}, \"layout\": {\"annotationdefaults\": {\"arrowcolor\": \"#2a3f5f\", \"arrowhead\": 0, \"arrowwidth\": 1}, \"coloraxis\": {\"colorbar\": {\"outlinewidth\": 0, \"ticks\": \"\"}}, \"colorscale\": {\"diverging\": [[0, \"#8e0152\"], [0.1, \"#c51b7d\"], [0.2, \"#de77ae\"], [0.3, \"#f1b6da\"], [0.4, \"#fde0ef\"], [0.5, \"#f7f7f7\"], [0.6, \"#e6f5d0\"], [0.7, \"#b8e186\"], [0.8, \"#7fbc41\"], [0.9, \"#4d9221\"], [1, \"#276419\"]], \"sequential\": [[0.0, \"#0d0887\"], [0.1111111111111111, \"#46039f\"], [0.2222222222222222, \"#7201a8\"], [0.3333333333333333, \"#9c179e\"], [0.4444444444444444, \"#bd3786\"], [0.5555555555555556, \"#d8576b\"], [0.6666666666666666, \"#ed7953\"], [0.7777777777777778, \"#fb9f3a\"], [0.8888888888888888, \"#fdca26\"], [1.0, \"#f0f921\"]], \"sequentialminus\": [[0.0, \"#0d0887\"], [0.1111111111111111, \"#46039f\"], [0.2222222222222222, \"#7201a8\"], [0.3333333333333333, \"#9c179e\"], [0.4444444444444444, \"#bd3786\"], [0.5555555555555556, \"#d8576b\"], [0.6666666666666666, \"#ed7953\"], [0.7777777777777778, \"#fb9f3a\"], [0.8888888888888888, \"#fdca26\"], [1.0, \"#f0f921\"]]}, \"colorway\": [\"#636efa\", \"#EF553B\", \"#00cc96\", \"#ab63fa\", \"#FFA15A\", \"#19d3f3\", \"#FF6692\", \"#B6E880\", \"#FF97FF\", \"#FECB52\"], \"font\": {\"color\": \"#2a3f5f\"}, \"geo\": {\"bgcolor\": \"white\", \"lakecolor\": \"white\", \"landcolor\": \"#E5ECF6\", \"showlakes\": true, \"showland\": true, \"subunitcolor\": \"white\"}, \"hoverlabel\": {\"align\": \"left\"}, \"hovermode\": \"closest\", \"mapbox\": {\"style\": \"light\"}, \"paper_bgcolor\": \"white\", \"plot_bgcolor\": \"#E5ECF6\", \"polar\": {\"angularaxis\": {\"gridcolor\": \"white\", \"linecolor\": \"white\", \"ticks\": \"\"}, \"bgcolor\": \"#E5ECF6\", \"radialaxis\": {\"gridcolor\": \"white\", \"linecolor\": \"white\", \"ticks\": \"\"}}, \"scene\": {\"xaxis\": {\"backgroundcolor\": \"#E5ECF6\", \"gridcolor\": \"white\", \"gridwidth\": 2, \"linecolor\": \"white\", \"showbackground\": true, \"ticks\": \"\", \"zerolinecolor\": \"white\"}, \"yaxis\": {\"backgroundcolor\": \"#E5ECF6\", \"gridcolor\": \"white\", \"gridwidth\": 2, \"linecolor\": \"white\", \"showbackground\": true, \"ticks\": \"\", \"zerolinecolor\": \"white\"}, \"zaxis\": {\"backgroundcolor\": \"#E5ECF6\", \"gridcolor\": \"white\", \"gridwidth\": 2, \"linecolor\": \"white\", \"showbackground\": true, \"ticks\": \"\", \"zerolinecolor\": \"white\"}}, \"shapedefaults\": {\"line\": {\"color\": \"#2a3f5f\"}}, \"ternary\": {\"aaxis\": {\"gridcolor\": \"white\", \"linecolor\": \"white\", \"ticks\": \"\"}, \"baxis\": {\"gridcolor\": \"white\", \"linecolor\": \"white\", \"ticks\": \"\"}, \"bgcolor\": \"#E5ECF6\", \"caxis\": {\"gridcolor\": \"white\", \"linecolor\": \"white\", \"ticks\": \"\"}}, \"title\": {\"x\": 0.05}, \"xaxis\": {\"automargin\": true, \"gridcolor\": \"white\", \"linecolor\": \"white\", \"ticks\": \"\", \"title\": {\"standoff\": 15}, \"zerolinecolor\": \"white\", \"zerolinewidth\": 2}, \"yaxis\": {\"automargin\": true, \"gridcolor\": \"white\", \"linecolor\": \"white\", \"ticks\": \"\", \"title\": {\"standoff\": 15}, \"zerolinecolor\": \"white\", \"zerolinewidth\": 2}}}, \"title\": {\"text\": \"Suicide Rate by Race\"}, \"xaxis\": {\"anchor\": \"y\", \"domain\": [0.0, 1.0], \"title\": {\"text\": \"Year\"}}, \"yaxis\": {\"anchor\": \"x\", \"domain\": [0.0, 1.0], \"title\": {\"text\": \"Rate\"}}},\n",
       "                        {\"responsive\": true}\n",
       "                    ).then(function(){\n",
       "                            \n",
       "var gd = document.getElementById('a0cdc454-3a61-4a2b-ad6b-46e7ee5534bf');\n",
       "var x = new MutationObserver(function (mutations, observer) {{\n",
       "        var display = window.getComputedStyle(gd).display;\n",
       "        if (!display || display === 'none') {{\n",
       "            console.log([gd, 'removed!']);\n",
       "            Plotly.purge(gd);\n",
       "            observer.disconnect();\n",
       "        }}\n",
       "}});\n",
       "\n",
       "// Listen for the removal of the full notebook cells\n",
       "var notebookContainer = gd.closest('#notebook-container');\n",
       "if (notebookContainer) {{\n",
       "    x.observe(notebookContainer, {childList: true});\n",
       "}}\n",
       "\n",
       "// Listen for the clearing of the current output cell\n",
       "var outputEl = gd.closest('.output');\n",
       "if (outputEl) {{\n",
       "    x.observe(outputEl, {childList: true});\n",
       "}}\n",
       "\n",
       "                        })\n",
       "                };\n",
       "                });\n",
       "            </script>\n",
       "        </div>"
      ]
     },
     "metadata": {},
     "output_type": "display_data"
    }
   ],
   "source": [
    "# line plot using plotly\n",
    "fig = px.line( ethnic,x=\"Year\", y=\"Rate\", color='Strata Name',title='Suicide Rate by Race')\n",
    "fig.show()\n"
   ]
  },
  {
   "cell_type": "code",
   "execution_count": 51,
   "metadata": {
    "scrolled": false
   },
   "outputs": [
    {
     "data": {
      "image/png": "[encoded data removed]",
      "text/plain": [
       "<Figure size 576x360 with 1 Axes>"
      ]
     },
     "metadata": {},
     "output_type": "display_data"
    }
   ],
   "source": [
    "plt.figure(figsize=(8,5))\n",
    "for i in range(len(list(set(ethnic['Strata Name'])))):\n",
    "    sns.lineplot('Year','Rate',data=ethnic[ethnic['Strata Name']==list(set(ethnic['Strata Name']))[i]],label='{}'.format(list(set(ethnic['Strata Name']))[i]))\n",
    "    plt.xticks(rotation=90)\n",
    "    plt.title('Suicide Rate by Race',fontsize=20)\n",
    "    plt.legend(loc=9,bbox_to_anchor=(0.9, 0, 0.5, 1))\n",
    "    "
   ]
  },
  {
   "cell_type": "code",
   "execution_count": 60,
   "metadata": {
    "scrolled": false
   },
   "outputs": [
    {
     "data": {
      "text/plain": [
       "Text(0.5, 0, 'Race/Ethnicity')"
      ]
     },
     "execution_count": 60,
     "metadata": {},
     "output_type": "execute_result"
    },
    {
     "data": {
      "image/png": "[encoded data removed]",
      "text/plain": [
       "<Figure size 720x360 with 1 Axes>"
      ]
     },
     "metadata": {},
     "output_type": "display_data"
    }
   ],
   "source": [
    "# Take mean of suicide rate from 2000-2017 for each race/ethnicity\n",
    "ethnic[ethnic['Year']=='2015-2017'].groupby('Strata Name')['Rate'].mean().plot(kind='bar',figsize=(10,5),title='Mean of Suicide Rate by Race/Ethnicity from 2015-2017')\n",
    "plt.xlabel('Race/Ethnicity')\n"
   ]
  },
  {
   "cell_type": "markdown",
   "metadata": {},
   "source": [
    "# Sates/Geography"
   ]
  },
  {
   "cell_type": "code",
   "execution_count": 62,
   "metadata": {
    "scrolled": false
   },
   "outputs": [
    {
     "data": {
      "image/png": "[encoded data removed]",
      "text/plain": [
       "<Figure size 1080x360 with 1 Axes>"
      ]
     },
     "metadata": {},
     "output_type": "display_data"
    }
   ],
   "source": [
    "# the mean of suicide rate of each county from 2000-2017\n",
    "df3=pd.DataFrame(df[df['Strata']=='Race/Ethnicity'].groupby('Geography')['Rate'].mean()).reset_index().sort_values(by='Rate',ascending=False)\n",
    "plt.figure(figsize=(15,5))\n",
    "sns.barplot('Geography','Rate',data=df3)\n",
    "plt.xticks(rotation=90)\n",
    "plt.title(\"Suicide Rate by Geography\",fontsize=20)\n",
    "plt.show()"
   ]
  },
  {
   "cell_type": "code",
   "execution_count": 54,
   "metadata": {},
   "outputs": [
    {
     "data": {
      "text/html": [
       "<div>\n",
       "<style scoped>\n",
       "    .dataframe tbody tr th:only-of-type {\n",
       "        vertical-align: middle;\n",
       "    }\n",
       "\n",
       "    .dataframe tbody tr th {\n",
       "        vertical-align: top;\n",
       "    }\n",
       "\n",
       "    .dataframe thead th {\n",
       "        text-align: right;\n",
       "    }\n",
       "</style>\n",
       "<table border=\"1\" class=\"dataframe\">\n",
       "  <thead>\n",
       "    <tr style=\"text-align: right;\">\n",
       "      <th></th>\n",
       "      <th>Indicator</th>\n",
       "      <th>Geography</th>\n",
       "      <th>Year</th>\n",
       "      <th>Strata</th>\n",
       "      <th>Strata Name</th>\n",
       "      <th>Numerator</th>\n",
       "      <th>Denominator</th>\n",
       "      <th>Rate</th>\n",
       "      <th>Age Adjusted Rate</th>\n",
       "      <th>gender</th>\n",
       "      <th>...</th>\n",
       "      <th>Santa Cruz</th>\n",
       "      <th>Shasta</th>\n",
       "      <th>Siskiyou</th>\n",
       "      <th>Solano</th>\n",
       "      <th>Sonoma</th>\n",
       "      <th>Stanislaus</th>\n",
       "      <th>Tehama</th>\n",
       "      <th>Tulare</th>\n",
       "      <th>Ventura</th>\n",
       "      <th>Yolo</th>\n",
       "    </tr>\n",
       "  </thead>\n",
       "  <tbody>\n",
       "    <tr>\n",
       "      <th>0</th>\n",
       "      <td>Suicide</td>\n",
       "      <td>CALIFORNIA</td>\n",
       "      <td>2000</td>\n",
       "      <td>Sex</td>\n",
       "      <td>Female</td>\n",
       "      <td>682</td>\n",
       "      <td>17080000</td>\n",
       "      <td>3.993</td>\n",
       "      <td>4.067</td>\n",
       "      <td>0</td>\n",
       "      <td>...</td>\n",
       "      <td>0</td>\n",
       "      <td>0</td>\n",
       "      <td>0</td>\n",
       "      <td>0</td>\n",
       "      <td>0</td>\n",
       "      <td>0</td>\n",
       "      <td>0</td>\n",
       "      <td>0</td>\n",
       "      <td>0</td>\n",
       "      <td>0</td>\n",
       "    </tr>\n",
       "    <tr>\n",
       "      <th>1</th>\n",
       "      <td>Suicide</td>\n",
       "      <td>CALIFORNIA</td>\n",
       "      <td>2000</td>\n",
       "      <td>Sex</td>\n",
       "      <td>Male</td>\n",
       "      <td>2431</td>\n",
       "      <td>16920000</td>\n",
       "      <td>14.370</td>\n",
       "      <td>15.890</td>\n",
       "      <td>1</td>\n",
       "      <td>...</td>\n",
       "      <td>0</td>\n",
       "      <td>0</td>\n",
       "      <td>0</td>\n",
       "      <td>0</td>\n",
       "      <td>0</td>\n",
       "      <td>0</td>\n",
       "      <td>0</td>\n",
       "      <td>0</td>\n",
       "      <td>0</td>\n",
       "      <td>0</td>\n",
       "    </tr>\n",
       "    <tr>\n",
       "      <th>3</th>\n",
       "      <td>Suicide</td>\n",
       "      <td>CALIFORNIA</td>\n",
       "      <td>2001</td>\n",
       "      <td>Sex</td>\n",
       "      <td>Female</td>\n",
       "      <td>685</td>\n",
       "      <td>17340000</td>\n",
       "      <td>3.950</td>\n",
       "      <td>4.005</td>\n",
       "      <td>0</td>\n",
       "      <td>...</td>\n",
       "      <td>0</td>\n",
       "      <td>0</td>\n",
       "      <td>0</td>\n",
       "      <td>0</td>\n",
       "      <td>0</td>\n",
       "      <td>0</td>\n",
       "      <td>0</td>\n",
       "      <td>0</td>\n",
       "      <td>0</td>\n",
       "      <td>0</td>\n",
       "    </tr>\n",
       "    <tr>\n",
       "      <th>4</th>\n",
       "      <td>Suicide</td>\n",
       "      <td>CALIFORNIA</td>\n",
       "      <td>2001</td>\n",
       "      <td>Sex</td>\n",
       "      <td>Male</td>\n",
       "      <td>2571</td>\n",
       "      <td>17170000</td>\n",
       "      <td>14.970</td>\n",
       "      <td>16.410</td>\n",
       "      <td>1</td>\n",
       "      <td>...</td>\n",
       "      <td>0</td>\n",
       "      <td>0</td>\n",
       "      <td>0</td>\n",
       "      <td>0</td>\n",
       "      <td>0</td>\n",
       "      <td>0</td>\n",
       "      <td>0</td>\n",
       "      <td>0</td>\n",
       "      <td>0</td>\n",
       "      <td>0</td>\n",
       "    </tr>\n",
       "    <tr>\n",
       "      <th>6</th>\n",
       "      <td>Suicide</td>\n",
       "      <td>CALIFORNIA</td>\n",
       "      <td>2002</td>\n",
       "      <td>Sex</td>\n",
       "      <td>Female</td>\n",
       "      <td>710</td>\n",
       "      <td>17550000</td>\n",
       "      <td>4.045</td>\n",
       "      <td>4.088</td>\n",
       "      <td>0</td>\n",
       "      <td>...</td>\n",
       "      <td>0</td>\n",
       "      <td>0</td>\n",
       "      <td>0</td>\n",
       "      <td>0</td>\n",
       "      <td>0</td>\n",
       "      <td>0</td>\n",
       "      <td>0</td>\n",
       "      <td>0</td>\n",
       "      <td>0</td>\n",
       "      <td>0</td>\n",
       "    </tr>\n",
       "  </tbody>\n",
       "</table>\n",
       "<p>5 rows × 52 columns</p>\n",
       "</div>"
      ],
      "text/plain": [
       "  Indicator   Geography  Year Strata Strata Name  Numerator  Denominator  \\\n",
       "0   Suicide  CALIFORNIA  2000    Sex      Female        682     17080000   \n",
       "1   Suicide  CALIFORNIA  2000    Sex        Male       2431     16920000   \n",
       "3   Suicide  CALIFORNIA  2001    Sex      Female        685     17340000   \n",
       "4   Suicide  CALIFORNIA  2001    Sex        Male       2571     17170000   \n",
       "6   Suicide  CALIFORNIA  2002    Sex      Female        710     17550000   \n",
       "\n",
       "     Rate  Age Adjusted Rate  gender  ...  Santa Cruz  Shasta  Siskiyou  \\\n",
       "0   3.993              4.067       0  ...           0       0         0   \n",
       "1  14.370             15.890       1  ...           0       0         0   \n",
       "3   3.950              4.005       0  ...           0       0         0   \n",
       "4  14.970             16.410       1  ...           0       0         0   \n",
       "6   4.045              4.088       0  ...           0       0         0   \n",
       "\n",
       "   Solano  Sonoma  Stanislaus  Tehama  Tulare  Ventura  Yolo  \n",
       "0       0       0           0       0       0        0     0  \n",
       "1       0       0           0       0       0        0     0  \n",
       "3       0       0           0       0       0        0     0  \n",
       "4       0       0           0       0       0        0     0  \n",
       "6       0       0           0       0       0        0     0  \n",
       "\n",
       "[5 rows x 52 columns]"
      ]
     },
     "execution_count": 54,
     "metadata": {},
     "output_type": "execute_result"
    }
   ],
   "source": [
    "# Create gender dataframe \n",
    "gender=df[df['Strata']=='Sex'][df[df['Strata']=='Sex']['Strata Name']!='Total']\n",
    "# encode Female and Male  into 0 and 1\n",
    "gender['gender']=gender['Strata Name'].map({'Female':0,'Male':1})\n",
    "# set up dummy variables for each county\n",
    "geo_dummy=pd.get_dummies(gender.Geography,drop_first=True)\n",
    "# add up dummy variavle data with gender data frame\n",
    "gender[geo_dummy.columns]=geo_dummy\n",
    "gender.head()\n",
    "# now we have target: Rate , and other variables: age adjuested rate , gender dummy, geo_dummy"
   ]
  },
  {
   "cell_type": "code",
   "execution_count": 55,
   "metadata": {
    "scrolled": false
   },
   "outputs": [
    {
     "data": {
      "text/html": [
       "<div>\n",
       "<style scoped>\n",
       "    .dataframe tbody tr th:only-of-type {\n",
       "        vertical-align: middle;\n",
       "    }\n",
       "\n",
       "    .dataframe tbody tr th {\n",
       "        vertical-align: top;\n",
       "    }\n",
       "\n",
       "    .dataframe thead th {\n",
       "        text-align: right;\n",
       "    }\n",
       "</style>\n",
       "<table border=\"1\" class=\"dataframe\">\n",
       "  <thead>\n",
       "    <tr style=\"text-align: right;\">\n",
       "      <th></th>\n",
       "      <th>Geography</th>\n",
       "      <th>Year</th>\n",
       "      <th>Strata Name_x</th>\n",
       "      <th>Asian-NH</th>\n",
       "      <th>Black-NH</th>\n",
       "      <th>Hisp</th>\n",
       "      <th>Multi-NH</th>\n",
       "      <th>NHPI-NH</th>\n",
       "      <th>White-NH</th>\n",
       "      <th>Indicator</th>\n",
       "      <th>...</th>\n",
       "      <th>Santa Cruz</th>\n",
       "      <th>Shasta</th>\n",
       "      <th>Siskiyou</th>\n",
       "      <th>Solano</th>\n",
       "      <th>Sonoma</th>\n",
       "      <th>Stanislaus</th>\n",
       "      <th>Tehama</th>\n",
       "      <th>Tulare</th>\n",
       "      <th>Ventura</th>\n",
       "      <th>Yolo</th>\n",
       "    </tr>\n",
       "  </thead>\n",
       "  <tbody>\n",
       "    <tr>\n",
       "      <th>0</th>\n",
       "      <td>Alameda</td>\n",
       "      <td>2000-2002</td>\n",
       "      <td>Asian-NH</td>\n",
       "      <td>1</td>\n",
       "      <td>0</td>\n",
       "      <td>0</td>\n",
       "      <td>0</td>\n",
       "      <td>0</td>\n",
       "      <td>0</td>\n",
       "      <td>Suicide</td>\n",
       "      <td>...</td>\n",
       "      <td>0</td>\n",
       "      <td>0</td>\n",
       "      <td>0</td>\n",
       "      <td>0</td>\n",
       "      <td>0</td>\n",
       "      <td>0</td>\n",
       "      <td>0</td>\n",
       "      <td>0</td>\n",
       "      <td>0</td>\n",
       "      <td>0</td>\n",
       "    </tr>\n",
       "    <tr>\n",
       "      <th>1</th>\n",
       "      <td>Alameda</td>\n",
       "      <td>2000-2002</td>\n",
       "      <td>Asian-NH</td>\n",
       "      <td>1</td>\n",
       "      <td>0</td>\n",
       "      <td>0</td>\n",
       "      <td>0</td>\n",
       "      <td>0</td>\n",
       "      <td>0</td>\n",
       "      <td>Suicide</td>\n",
       "      <td>...</td>\n",
       "      <td>0</td>\n",
       "      <td>0</td>\n",
       "      <td>0</td>\n",
       "      <td>0</td>\n",
       "      <td>0</td>\n",
       "      <td>0</td>\n",
       "      <td>0</td>\n",
       "      <td>0</td>\n",
       "      <td>0</td>\n",
       "      <td>0</td>\n",
       "    </tr>\n",
       "    <tr>\n",
       "      <th>2</th>\n",
       "      <td>Alameda</td>\n",
       "      <td>2000-2002</td>\n",
       "      <td>Black-NH</td>\n",
       "      <td>0</td>\n",
       "      <td>1</td>\n",
       "      <td>0</td>\n",
       "      <td>0</td>\n",
       "      <td>0</td>\n",
       "      <td>0</td>\n",
       "      <td>Suicide</td>\n",
       "      <td>...</td>\n",
       "      <td>0</td>\n",
       "      <td>0</td>\n",
       "      <td>0</td>\n",
       "      <td>0</td>\n",
       "      <td>0</td>\n",
       "      <td>0</td>\n",
       "      <td>0</td>\n",
       "      <td>0</td>\n",
       "      <td>0</td>\n",
       "      <td>0</td>\n",
       "    </tr>\n",
       "    <tr>\n",
       "      <th>3</th>\n",
       "      <td>Alameda</td>\n",
       "      <td>2000-2002</td>\n",
       "      <td>Black-NH</td>\n",
       "      <td>0</td>\n",
       "      <td>1</td>\n",
       "      <td>0</td>\n",
       "      <td>0</td>\n",
       "      <td>0</td>\n",
       "      <td>0</td>\n",
       "      <td>Suicide</td>\n",
       "      <td>...</td>\n",
       "      <td>0</td>\n",
       "      <td>0</td>\n",
       "      <td>0</td>\n",
       "      <td>0</td>\n",
       "      <td>0</td>\n",
       "      <td>0</td>\n",
       "      <td>0</td>\n",
       "      <td>0</td>\n",
       "      <td>0</td>\n",
       "      <td>0</td>\n",
       "    </tr>\n",
       "    <tr>\n",
       "      <th>4</th>\n",
       "      <td>Alameda</td>\n",
       "      <td>2000-2002</td>\n",
       "      <td>Hisp</td>\n",
       "      <td>0</td>\n",
       "      <td>0</td>\n",
       "      <td>1</td>\n",
       "      <td>0</td>\n",
       "      <td>0</td>\n",
       "      <td>0</td>\n",
       "      <td>Suicide</td>\n",
       "      <td>...</td>\n",
       "      <td>0</td>\n",
       "      <td>0</td>\n",
       "      <td>0</td>\n",
       "      <td>0</td>\n",
       "      <td>0</td>\n",
       "      <td>0</td>\n",
       "      <td>0</td>\n",
       "      <td>0</td>\n",
       "      <td>0</td>\n",
       "      <td>0</td>\n",
       "    </tr>\n",
       "  </tbody>\n",
       "</table>\n",
       "<p>5 rows × 59 columns</p>\n",
       "</div>"
      ],
      "text/plain": [
       "  Geography       Year Strata Name_x  Asian-NH  Black-NH  Hisp  Multi-NH  \\\n",
       "0   Alameda  2000-2002      Asian-NH         1         0     0         0   \n",
       "1   Alameda  2000-2002      Asian-NH         1         0     0         0   \n",
       "2   Alameda  2000-2002      Black-NH         0         1     0         0   \n",
       "3   Alameda  2000-2002      Black-NH         0         1     0         0   \n",
       "4   Alameda  2000-2002          Hisp         0         0     1         0   \n",
       "\n",
       "   NHPI-NH  White-NH Indicator  ... Santa Cruz Shasta  Siskiyou  Solano  \\\n",
       "0        0         0   Suicide  ...          0      0         0       0   \n",
       "1        0         0   Suicide  ...          0      0         0       0   \n",
       "2        0         0   Suicide  ...          0      0         0       0   \n",
       "3        0         0   Suicide  ...          0      0         0       0   \n",
       "4        0         0   Suicide  ...          0      0         0       0   \n",
       "\n",
       "   Sonoma  Stanislaus  Tehama  Tulare  Ventura  Yolo  \n",
       "0       0           0       0       0        0     0  \n",
       "1       0           0       0       0        0     0  \n",
       "2       0           0       0       0        0     0  \n",
       "3       0           0       0       0        0     0  \n",
       "4       0           0       0       0        0     0  \n",
       "\n",
       "[5 rows x 59 columns]"
      ]
     },
     "execution_count": 55,
     "metadata": {},
     "output_type": "execute_result"
    }
   ],
   "source": [
    "# now create race dataframe \n",
    "race=df[df['Strata']=='Race/Ethnicity'][df[df['Strata']=='Race/Ethnicity']['Strata Name']!='Total'][['Geography','Year','Strata Name']]\n",
    "# create dummy variable for race \n",
    "race_dummy=pd.get_dummies(race['Strata Name'],drop_first=True)\n",
    "race[race_dummy.columns]=race_dummy\n",
    "# merge race and gender \n",
    "final_df=pd.merge(race,gender,on=['Geography','Year'])\n",
    "final_df.head()"
   ]
  },
  {
   "cell_type": "code",
   "execution_count": 56,
   "metadata": {},
   "outputs": [],
   "source": [
    "# select Rate, Gender, 'Age Adjusted Rate, Counties' names , different races\n",
    "final_df=final_df[['Rate','gender','Age Adjusted Rate', 'Butte', 'CALIFORNIA', 'Calaveras',\n",
    "       'Contra Costa', 'El Dorado', 'Fresno', 'Humboldt', 'Imperial', 'Inyo',\n",
    "       'Kern', 'Lake', 'Los Angeles', 'Madera', 'Marin', 'Mendocino', 'Merced',\n",
    "       'Monterey', 'Napa', 'Nevada', 'Orange', 'Placer', 'Plumas', 'Riverside',\n",
    "       'Sacramento', 'San Bernardino', 'San Diego', 'San Francisco',\n",
    "       'San Joaquin', 'San Luis Obispo', 'San Mateo', 'Santa Barbara',\n",
    "       'Santa Clara', 'Santa Cruz', 'Shasta', 'Siskiyou', 'Solano', 'Sonoma',\n",
    "       'Stanislaus', 'Tehama', 'Tulare', 'Ventura', 'Yolo', 'Asian-NH',\n",
    "       'Black-NH', 'Hisp', 'Multi-NH', 'NHPI-NH', 'White-NH']]"
   ]
  },
  {
   "cell_type": "code",
   "execution_count": 57,
   "metadata": {},
   "outputs": [
    {
     "data": {
      "text/plain": [
       "<seaborn.axisgrid.JointGrid at 0x1a1ffbedd0>"
      ]
     },
     "execution_count": 57,
     "metadata": {},
     "output_type": "execute_result"
    },
    {
     "data": {
      "image/png": "[encoded data removed]",
      "text/plain": [
       "<Figure size 432x432 with 3 Axes>"
      ]
     },
     "metadata": {},
     "output_type": "display_data"
    }
   ],
   "source": [
    "# Age Adjusted Rate VS Suicide Rate in California\n",
    "sns.jointplot(x='Age Adjusted Rate',y='Rate',data=final_df, kind=\"reg\",color=\"g\")"
   ]
  },
  {
   "cell_type": "markdown",
   "metadata": {},
   "source": [
    "# Train test split"
   ]
  },
  {
   "cell_type": "code",
   "execution_count": 58,
   "metadata": {},
   "outputs": [],
   "source": [
    "# decalre inputs and target\n",
    "target=final_df.Rate\n",
    "inputs=final_df.drop(columns='Rate')"
   ]
  },
  {
   "cell_type": "code",
   "execution_count": 61,
   "metadata": {
    "scrolled": false
   },
   "outputs": [
    {
     "name": "stdout",
     "output_type": "stream",
     "text": [
      "Training set - Features:  (855, 50) Target:  (855,)\n",
      "Test set- Features:  (214, 50) Target:  (214,)\n"
     ]
    }
   ],
   "source": [
    "from sklearn.model_selection import train_test_split\n",
    "\n",
    "# Split the variables with an 80-20 split and some random state\n",
    "# To have the same split as mine, use random_state = 365\n",
    "x_train, x_test, y_train, y_test = train_test_split(inputs, target, test_size=0.2, random_state=0)\n",
    "\n",
    "#check the shape of the results\n",
    "print(\"Training set - Features: \", x_train.shape, \"Target: \", y_train.shape)\n",
    "print(\"Test set- Features: \", x_test.shape, \"Target: \",y_test.shape)"
   ]
  },
  {
   "cell_type": "code",
   "execution_count": 62,
   "metadata": {},
   "outputs": [],
   "source": [
    "# convert np.arrary into dataframe\n",
    "x_train=pd.DataFrame(data=x_train, columns=x_train.columns)\n",
    "x_test=pd.DataFrame(data=x_test, columns=x_train.columns)"
   ]
  },
  {
   "cell_type": "markdown",
   "metadata": {},
   "source": [
    "# Feature Selection\n"
   ]
  },
  {
   "cell_type": "code",
   "execution_count": 641,
   "metadata": {
    "code_folding": [
     2
    ],
    "scrolled": false
   },
   "outputs": [
    {
     "data": {
      "image/png": "[encoded data removed]",
      "text/plain": [
       "<Figure size 1440x1440 with 2 Axes>"
      ]
     },
     "metadata": {},
     "output_type": "display_data"
    }
   ],
   "source": [
    "# Generate a custom diverging colormap\n",
    "# Feature correlaiton heatmap\n",
    "plt.figure(figsize=(20,20))\n",
    "sns.heatmap(x_train.corr(),\n",
    "            square=False,annot=False,cmap=\"PiYG\")\n",
    "plt.show()"
   ]
  },
  {
   "cell_type": "code",
   "execution_count": 671,
   "metadata": {
    "scrolled": true
   },
   "outputs": [
    {
     "data": {
      "text/html": [
       "<div>\n",
       "<style scoped>\n",
       "    .dataframe tbody tr th:only-of-type {\n",
       "        vertical-align: middle;\n",
       "    }\n",
       "\n",
       "    .dataframe tbody tr th {\n",
       "        vertical-align: top;\n",
       "    }\n",
       "\n",
       "    .dataframe thead th {\n",
       "        text-align: right;\n",
       "    }\n",
       "</style>\n",
       "<table border=\"1\" class=\"dataframe\">\n",
       "  <thead>\n",
       "    <tr style=\"text-align: right;\">\n",
       "      <th></th>\n",
       "      <th>gender</th>\n",
       "      <th>Age Adjusted Rate</th>\n",
       "      <th>Butte</th>\n",
       "      <th>CALIFORNIA</th>\n",
       "      <th>Calaveras</th>\n",
       "      <th>Contra Costa</th>\n",
       "      <th>El Dorado</th>\n",
       "      <th>Fresno</th>\n",
       "      <th>Humboldt</th>\n",
       "      <th>Imperial</th>\n",
       "      <th>...</th>\n",
       "      <th>Tehama</th>\n",
       "      <th>Tulare</th>\n",
       "      <th>Ventura</th>\n",
       "      <th>Yolo</th>\n",
       "      <th>Asian-NH</th>\n",
       "      <th>Black-NH</th>\n",
       "      <th>Hisp</th>\n",
       "      <th>Multi-NH</th>\n",
       "      <th>NHPI-NH</th>\n",
       "      <th>White-NH</th>\n",
       "    </tr>\n",
       "  </thead>\n",
       "  <tbody>\n",
       "    <tr>\n",
       "      <th>gender</th>\n",
       "      <td>1.000000</td>\n",
       "      <td>0.856929</td>\n",
       "      <td>0.012064</td>\n",
       "      <td>0.019140</td>\n",
       "      <td>NaN</td>\n",
       "      <td>0.003860</td>\n",
       "      <td>0.015788</td>\n",
       "      <td>0.026541</td>\n",
       "      <td>0.010857</td>\n",
       "      <td>0.048139</td>\n",
       "      <td>...</td>\n",
       "      <td>0.000283</td>\n",
       "      <td>0.010285</td>\n",
       "      <td>0.012587</td>\n",
       "      <td>0.015788</td>\n",
       "      <td>0.000593</td>\n",
       "      <td>0.016790</td>\n",
       "      <td>0.017633</td>\n",
       "      <td>0.001394</td>\n",
       "      <td>0.000636</td>\n",
       "      <td>0.006969</td>\n",
       "    </tr>\n",
       "    <tr>\n",
       "      <th>Age Adjusted Rate</th>\n",
       "      <td>0.856929</td>\n",
       "      <td>1.000000</td>\n",
       "      <td>0.114514</td>\n",
       "      <td>0.055868</td>\n",
       "      <td>NaN</td>\n",
       "      <td>0.035991</td>\n",
       "      <td>0.061609</td>\n",
       "      <td>0.015062</td>\n",
       "      <td>0.140368</td>\n",
       "      <td>0.038055</td>\n",
       "      <td>...</td>\n",
       "      <td>0.061933</td>\n",
       "      <td>0.004623</td>\n",
       "      <td>0.015904</td>\n",
       "      <td>0.015031</td>\n",
       "      <td>0.066219</td>\n",
       "      <td>0.026830</td>\n",
       "      <td>0.064791</td>\n",
       "      <td>0.030248</td>\n",
       "      <td>0.013873</td>\n",
       "      <td>0.149483</td>\n",
       "    </tr>\n",
       "    <tr>\n",
       "      <th>Butte</th>\n",
       "      <td>0.012064</td>\n",
       "      <td>0.114514</td>\n",
       "      <td>1.000000</td>\n",
       "      <td>0.031513</td>\n",
       "      <td>NaN</td>\n",
       "      <td>0.024311</td>\n",
       "      <td>0.007911</td>\n",
       "      <td>0.019668</td>\n",
       "      <td>0.010638</td>\n",
       "      <td>0.004994</td>\n",
       "      <td>...</td>\n",
       "      <td>0.004994</td>\n",
       "      <td>0.012816</td>\n",
       "      <td>0.018266</td>\n",
       "      <td>0.007911</td>\n",
       "      <td>0.045445</td>\n",
       "      <td>0.037111</td>\n",
       "      <td>0.062197</td>\n",
       "      <td>0.024595</td>\n",
       "      <td>0.011220</td>\n",
       "      <td>0.132370</td>\n",
       "    </tr>\n",
       "    <tr>\n",
       "      <th>CALIFORNIA</th>\n",
       "      <td>0.019140</td>\n",
       "      <td>0.055868</td>\n",
       "      <td>0.031513</td>\n",
       "      <td>1.000000</td>\n",
       "      <td>NaN</td>\n",
       "      <td>0.072015</td>\n",
       "      <td>0.023433</td>\n",
       "      <td>0.058263</td>\n",
       "      <td>0.031513</td>\n",
       "      <td>0.014794</td>\n",
       "      <td>...</td>\n",
       "      <td>0.014794</td>\n",
       "      <td>0.037964</td>\n",
       "      <td>0.054109</td>\n",
       "      <td>0.023433</td>\n",
       "      <td>0.009844</td>\n",
       "      <td>0.021452</td>\n",
       "      <td>0.080133</td>\n",
       "      <td>0.112646</td>\n",
       "      <td>0.356052</td>\n",
       "      <td>0.151743</td>\n",
       "    </tr>\n",
       "    <tr>\n",
       "      <th>Calaveras</th>\n",
       "      <td>NaN</td>\n",
       "      <td>NaN</td>\n",
       "      <td>NaN</td>\n",
       "      <td>NaN</td>\n",
       "      <td>NaN</td>\n",
       "      <td>NaN</td>\n",
       "      <td>NaN</td>\n",
       "      <td>NaN</td>\n",
       "      <td>NaN</td>\n",
       "      <td>NaN</td>\n",
       "      <td>...</td>\n",
       "      <td>NaN</td>\n",
       "      <td>NaN</td>\n",
       "      <td>NaN</td>\n",
       "      <td>NaN</td>\n",
       "      <td>NaN</td>\n",
       "      <td>NaN</td>\n",
       "      <td>NaN</td>\n",
       "      <td>NaN</td>\n",
       "      <td>NaN</td>\n",
       "      <td>NaN</td>\n",
       "    </tr>\n",
       "  </tbody>\n",
       "</table>\n",
       "<p>5 rows × 50 columns</p>\n",
       "</div>"
      ],
      "text/plain": [
       "                     gender  Age Adjusted Rate     Butte  CALIFORNIA  \\\n",
       "gender             1.000000           0.856929  0.012064    0.019140   \n",
       "Age Adjusted Rate  0.856929           1.000000  0.114514    0.055868   \n",
       "Butte              0.012064           0.114514  1.000000    0.031513   \n",
       "CALIFORNIA         0.019140           0.055868  0.031513    1.000000   \n",
       "Calaveras               NaN                NaN       NaN         NaN   \n",
       "\n",
       "                   Calaveras  Contra Costa  El Dorado    Fresno  Humboldt  \\\n",
       "gender                   NaN      0.003860   0.015788  0.026541  0.010857   \n",
       "Age Adjusted Rate        NaN      0.035991   0.061609  0.015062  0.140368   \n",
       "Butte                    NaN      0.024311   0.007911  0.019668  0.010638   \n",
       "CALIFORNIA               NaN      0.072015   0.023433  0.058263  0.031513   \n",
       "Calaveras                NaN           NaN        NaN       NaN       NaN   \n",
       "\n",
       "                   Imperial  ...    Tehama    Tulare   Ventura      Yolo  \\\n",
       "gender             0.048139  ...  0.000283  0.010285  0.012587  0.015788   \n",
       "Age Adjusted Rate  0.038055  ...  0.061933  0.004623  0.015904  0.015031   \n",
       "Butte              0.004994  ...  0.004994  0.012816  0.018266  0.007911   \n",
       "CALIFORNIA         0.014794  ...  0.014794  0.037964  0.054109  0.023433   \n",
       "Calaveras               NaN  ...       NaN       NaN       NaN       NaN   \n",
       "\n",
       "                   Asian-NH  Black-NH      Hisp  Multi-NH   NHPI-NH  White-NH  \n",
       "gender             0.000593  0.016790  0.017633  0.001394  0.000636  0.006969  \n",
       "Age Adjusted Rate  0.066219  0.026830  0.064791  0.030248  0.013873  0.149483  \n",
       "Butte              0.045445  0.037111  0.062197  0.024595  0.011220  0.132370  \n",
       "CALIFORNIA         0.009844  0.021452  0.080133  0.112646  0.356052  0.151743  \n",
       "Calaveras               NaN       NaN       NaN       NaN       NaN       NaN  \n",
       "\n",
       "[5 rows x 50 columns]"
      ]
     },
     "execution_count": 671,
     "metadata": {},
     "output_type": "execute_result"
    }
   ],
   "source": [
    "corrlation= abs(x_train.corr())\n",
    "# Obtianed the dataframe of Correlation \n",
    "relevant_features = corrlation[corrlation>0]\n",
    "relevant_features.head()"
   ]
  },
  {
   "cell_type": "markdown",
   "metadata": {},
   "source": [
    "# Scaled data"
   ]
  },
  {
   "cell_type": "code",
   "execution_count": 561,
   "metadata": {},
   "outputs": [],
   "source": [
    "from sklearn.preprocessing import MinMaxScaler\n",
    "\n",
    "# Create a scaler object\n",
    "scaler = MinMaxScaler()\n",
    "# Fit the inputs (calculate the mean and standard deviation feature-wise)\n",
    "scaler.fit(inputs)\n",
    "# Scale the features and store them in a new variable (the actual scaling procedure)\n",
    "x_train= scaler.transform(x_train)\n",
    "x_test = scaler.transform(x_test)"
   ]
  },
  {
   "cell_type": "code",
   "execution_count": 562,
   "metadata": {},
   "outputs": [
    {
     "data": {
      "text/plain": [
       "((214, 50), (855, 50))"
      ]
     },
     "execution_count": 562,
     "metadata": {},
     "output_type": "execute_result"
    }
   ],
   "source": [
    "x_test.shape,x_train.shape"
   ]
  },
  {
   "cell_type": "markdown",
   "metadata": {},
   "source": [
    "# Linear Regression"
   ]
  },
  {
   "cell_type": "code",
   "execution_count": 563,
   "metadata": {},
   "outputs": [
    {
     "data": {
      "text/plain": [
       "LinearRegression(copy_X=True, fit_intercept=True, n_jobs=None, normalize=False)"
      ]
     },
     "execution_count": 563,
     "metadata": {},
     "output_type": "execute_result"
    }
   ],
   "source": [
    "from sklearn.linear_model import Lasso, Ridge, LinearRegression,RidgeCV,LassoCV, ElasticNetCV\n",
    "\n",
    "reg = LinearRegression()\n",
    "reg.fit(x_train, y_train)"
   ]
  },
  {
   "cell_type": "markdown",
   "metadata": {},
   "source": [
    "## Score\n"
   ]
  },
  {
   "cell_type": "code",
   "execution_count": 564,
   "metadata": {},
   "outputs": [
    {
     "name": "stdout",
     "output_type": "stream",
     "text": [
      "Linear Regression Train Accuracy: 99.244569%\n",
      "Linear Regression test Accuracy: 98.555552%\n"
     ]
    }
   ],
   "source": [
    "test_accuracy = reg.score(x_test, y_test)\n",
    "train_accuracy=reg.score(x_train, y_train)\n",
    "print(\"Linear Regression Train Accuracy: {:2f}%\".format(train_accuracy*100))\n",
    "print(\"Linear Regression test Accuracy: {:2f}%\".format(test_accuracy*100 ))"
   ]
  },
  {
   "cell_type": "markdown",
   "metadata": {},
   "source": [
    "## Residual"
   ]
  },
  {
   "cell_type": "code",
   "execution_count": 565,
   "metadata": {
    "scrolled": false
   },
   "outputs": [
    {
     "data": {
      "text/plain": [
       "[<matplotlib.lines.Line2D at 0x1a24114890>]"
      ]
     },
     "execution_count": 565,
     "metadata": {},
     "output_type": "execute_result"
    },
    {
     "data": {
      "image/png": "[encoded data removed]",
      "text/plain": [
       "<Figure size 720x360 with 2 Axes>"
      ]
     },
     "metadata": {},
     "output_type": "display_data"
    }
   ],
   "source": [
    "y_test_reg_pred=reg.predict(x_test)\n",
    "plt.figure(figsize=(10,5))\n",
    "# distribution of residual \n",
    "plt.subplot(1,2,1)\n",
    "sns.distplot(y_test-y_test_reg_pred)\n",
    "plt.title('Distribution of Residual',fontsize=15)\n",
    "\n",
    "plt.subplot(1,2,2)\n",
    "plt.title('Prediction VS Actual',fontsize=15)\n",
    "plt.scatter(y_test,y_test_reg_pred,color='g')\n",
    "plt.plot(y_test,y_test)"
   ]
  },
  {
   "cell_type": "markdown",
   "metadata": {},
   "source": [
    "# RMSE"
   ]
  },
  {
   "cell_type": "code",
   "execution_count": 566,
   "metadata": {},
   "outputs": [
    {
     "data": {
      "text/plain": [
       "0.967275429124187"
      ]
     },
     "execution_count": 566,
     "metadata": {},
     "output_type": "execute_result"
    }
   ],
   "source": [
    "lr_rmse=np.sqrt((1/len(y_test))*(sum((y_test-y_test_reg_pred)**2)))\n",
    "lr_rmse"
   ]
  },
  {
   "cell_type": "markdown",
   "metadata": {},
   "source": [
    "# Ridge regression"
   ]
  },
  {
   "cell_type": "markdown",
   "metadata": {},
   "source": [
    "## Alphas"
   ]
  },
  {
   "cell_type": "code",
   "execution_count": 567,
   "metadata": {},
   "outputs": [],
   "source": [
    "# given a list of alphas \n",
    "alphas=[14,15,16,17,11,12,13,2, 1.6,1.5, 1.49,1.48,1.47,\n",
    "        1.46,1.47,1.4,1.3,1.2\n",
    "        ,1.1, 1.05, 1.01,1.0, 0.5, \n",
    "        0.1, 0.05, 0.01, 0.005,\n",
    "        0.001, 0.0005]"
   ]
  },
  {
   "cell_type": "markdown",
   "metadata": {},
   "source": [
    "## model"
   ]
  },
  {
   "cell_type": "code",
   "execution_count": 568,
   "metadata": {},
   "outputs": [
    {
     "name": "stdout",
     "output_type": "stream",
     "text": [
      "The optimal alpha for Ridge model: 2.0\n"
     ]
    }
   ],
   "source": [
    "#Obtain optimal lapha\n",
    "#Gride search to get optimal alpha which is 0.05\n",
    "model1 = RidgeCV(alphas=alphas, normalize=False)\n",
    "model1.fit(inputs, target) \n",
    "print('The optimal alpha for Ridge model: '+str(model1.alpha_))"
   ]
  },
  {
   "cell_type": "code",
   "execution_count": 569,
   "metadata": {
    "scrolled": true
   },
   "outputs": [
    {
     "data": {
      "text/plain": [
       "Ridge(alpha=2.0, copy_X=True, fit_intercept=True, max_iter=None,\n",
       "      normalize=False, random_state=None, solver='auto', tol=0.001)"
      ]
     },
     "execution_count": 569,
     "metadata": {},
     "output_type": "execute_result"
    }
   ],
   "source": [
    "model_ridge = Ridge(alpha=model1.alpha_ ,normalize=False)\n",
    "model_ridge.fit(x_train, y_train)"
   ]
  },
  {
   "cell_type": "markdown",
   "metadata": {},
   "source": [
    "## Score"
   ]
  },
  {
   "cell_type": "code",
   "execution_count": 570,
   "metadata": {},
   "outputs": [
    {
     "name": "stdout",
     "output_type": "stream",
     "text": [
      "Ridge Regression train Accuracy: 97.394290%\n",
      "Ridge Regression test Accuracy: 94.240978%\n"
     ]
    }
   ],
   "source": [
    "train_score_ridge = model_ridge.score(x_train, y_train)  \n",
    "test_score_ridge = model_ridge.score(x_test, y_test)  \n",
    "print(\"Ridge Regression train Accuracy: {:2f}%\".format(train_score_ridge * 100))\n",
    "print(\"Ridge Regression test Accuracy: {:2f}%\".format(test_score_ridge* 100))"
   ]
  },
  {
   "cell_type": "markdown",
   "metadata": {},
   "source": [
    "## Distribution of Residual"
   ]
  },
  {
   "cell_type": "code",
   "execution_count": 571,
   "metadata": {
    "scrolled": false
   },
   "outputs": [
    {
     "data": {
      "text/plain": [
       "Text(0.5, 1.0, 'Prediction VS Actual Values')"
      ]
     },
     "execution_count": 571,
     "metadata": {},
     "output_type": "execute_result"
    },
    {
     "data": {
      "image/png": "[encoded data removed]",
      "text/plain": [
       "<Figure size 720x360 with 2 Axes>"
      ]
     },
     "metadata": {},
     "output_type": "display_data"
    }
   ],
   "source": [
    "y_test_predict_ridge=model_ridge.predict(x_test)\n",
    "plt.figure(figsize=(10,5))\n",
    "# distribution of residual \n",
    "plt.subplot(1,2,1)\n",
    "# distribution of residual\n",
    "sns.distplot(y_test-y_test_predict_ridge)\n",
    "plt.title('Distribution of Residual',fontsize=20)\n",
    "plt.xlabel('Residual')\n",
    "plt.subplot(1,2,2)\n",
    "plt.scatter(y_test,y_test_predict_ridge,color='r')\n",
    "plt.plot(y_test,y_test,color='m')\n",
    "plt.title('Prediction VS Actual Values',fontsize=20)"
   ]
  },
  {
   "cell_type": "markdown",
   "metadata": {},
   "source": [
    "## RMSE"
   ]
  },
  {
   "cell_type": "code",
   "execution_count": 572,
   "metadata": {},
   "outputs": [
    {
     "data": {
      "text/plain": [
       "1.931405971899933"
      ]
     },
     "execution_count": 572,
     "metadata": {},
     "output_type": "execute_result"
    }
   ],
   "source": [
    "ridge_rmse=np.sqrt((1/len(y_test))*(sum((y_test-y_test_predict_ridge)**2)))#**(1/2)\n",
    "ridge_rmse"
   ]
  },
  {
   "cell_type": "markdown",
   "metadata": {},
   "source": [
    "# Lasso"
   ]
  },
  {
   "cell_type": "code",
   "execution_count": 573,
   "metadata": {},
   "outputs": [
    {
     "data": {
      "text/plain": [
       "LassoCV(alphas=[14, 15, 16, 17, 11, 12, 13, 2, 1.6, 1.5, 1.49, 1.48, 1.47, 1.46,\n",
       "                1.47, 1.4, 1.3, 1.2, 1.1, 1.05, 1.01, 1.0, 0.5, 0.1, 0.05, 0.01,\n",
       "                0.005, 0.001, 0.0005],\n",
       "        copy_X=True, cv=10, eps=0.001, fit_intercept=True, max_iter=1000,\n",
       "        n_alphas=100, n_jobs=None, normalize=False, positive=False,\n",
       "        precompute='auto', random_state=None, selection='cyclic', tol=0.0001,\n",
       "        verbose=False)"
      ]
     },
     "execution_count": 573,
     "metadata": {},
     "output_type": "execute_result"
    }
   ],
   "source": [
    "# # Find the optimal alpha value for Lasso regression\n",
    "modelasso = LassoCV(alphas=alphas,cv=10,normalize=False)\n",
    "modelasso.fit(inputs, target)"
   ]
  },
  {
   "cell_type": "code",
   "execution_count": 574,
   "metadata": {},
   "outputs": [
    {
     "data": {
      "text/plain": [
       "Lasso(alpha=0.01, copy_X=True, fit_intercept=True, max_iter=1000,\n",
       "      normalize=False, positive=False, precompute=False, random_state=None,\n",
       "      selection='cyclic', tol=0.0001, warm_start=False)"
      ]
     },
     "execution_count": 574,
     "metadata": {},
     "output_type": "execute_result"
    }
   ],
   "source": [
    "\n",
    "# use the best alpha and fit it into model \n",
    "model_lasso = Lasso(alpha=modelasso.alpha_,normalize=False)\n",
    "model_lasso.fit(x_train, y_train)"
   ]
  },
  {
   "cell_type": "code",
   "execution_count": 575,
   "metadata": {},
   "outputs": [
    {
     "name": "stdout",
     "output_type": "stream",
     "text": [
      "Lasso Regression test score: 98.354348%\n",
      "Lasso Regression train score: 98.965353%\n"
     ]
    }
   ],
   "source": [
    "train_score_lasso = model_lasso.score(x_train, y_train)  \n",
    "test_score_lasso = model_lasso.score(x_test, y_test) \n",
    "print(\"Lasso Regression test score: {:2f}%\".format(test_score_lasso* 100))\n",
    "print(\"Lasso Regression train score: {:2f}%\".format(train_score_lasso * 100))"
   ]
  },
  {
   "cell_type": "code",
   "execution_count": 576,
   "metadata": {
    "scrolled": false
   },
   "outputs": [
    {
     "data": {
      "text/plain": [
       "Text(0.5, 1.0, 'Prediction VS Actual Values')"
      ]
     },
     "execution_count": 576,
     "metadata": {},
     "output_type": "execute_result"
    },
    {
     "data": {
      "image/png": "[encoded data removed]",
      "text/plain": [
       "<Figure size 720x360 with 2 Axes>"
      ]
     },
     "metadata": {},
     "output_type": "display_data"
    }
   ],
   "source": [
    "\n",
    "# to get y_test_predict\n",
    "y_test_predict_lasso=model_lasso.predict(x_test)\n",
    "plt.figure(figsize=(10,5))\n",
    "# distribution of residual \n",
    "plt.subplot(1,2,1)\n",
    "sns.distplot(y_test-y_test_predict_lasso)\n",
    "plt.title('Distribution of  Residual', fontsize=20)\n",
    "plt.xlabel('Distribution')\n",
    "plt.subplot(1,2,2)\n",
    "plt.scatter(y_test,y_test_predict_lasso,color='g')\n",
    "plt.plot(y_test,y_test)\n",
    "plt.title('Prediction VS Actual Values',fontsize=20)"
   ]
  },
  {
   "cell_type": "markdown",
   "metadata": {},
   "source": [
    "# RMSE"
   ]
  },
  {
   "cell_type": "code",
   "execution_count": 577,
   "metadata": {
    "scrolled": true
   },
   "outputs": [
    {
     "data": {
      "text/plain": [
       "1.6530946743057457"
      ]
     },
     "execution_count": 577,
     "metadata": {},
     "output_type": "execute_result"
    }
   ],
   "source": [
    "lasso_rmse=np.sqrt((1/len(y_test))*(sum(y_test-y_test_predict_lasso)**2))\n",
    "lasso_rmse"
   ]
  },
  {
   "cell_type": "markdown",
   "metadata": {},
   "source": [
    "# Model Evaluation"
   ]
  },
  {
   "cell_type": "code",
   "execution_count": 386,
   "metadata": {},
   "outputs": [
    {
     "data": {
      "text/plain": [
       "(0.967275429124187, 1.931405971899933, 1.6530946743057457)"
      ]
     },
     "execution_count": 386,
     "metadata": {},
     "output_type": "execute_result"
    }
   ],
   "source": [
    "lr_rmse,ridge_rmse,lasso_rmse  # Linear Regression has the lowest RMSE "
   ]
  },
  {
   "cell_type": "code",
   "execution_count": 388,
   "metadata": {},
   "outputs": [
    {
     "data": {
      "text/plain": [
       "('Linear Regression test Accuracy: 98.55%',\n",
       " 'Ridge Regression test Accuracy: 94.24%',\n",
       " 'Lasso Regression train score: 98.96%')"
      ]
     },
     "execution_count": 388,
     "metadata": {},
     "output_type": "execute_result"
    }
   ],
   "source": [
    "('Linear Regression test Accuracy: 98.55%',\n",
    "'Ridge Regression test Accuracy: 94.24%',\n",
    "'Lasso Regression test score: 98.96%') "
   ]
  },
  {
   "cell_type": "code",
   "execution_count": 394,
   "metadata": {},
   "outputs": [],
   "source": [
    "import statsmodels.api as sm"
   ]
  },
  {
   "cell_type": "code",
   "execution_count": 405,
   "metadata": {},
   "outputs": [],
   "source": [
    "xtest=pd.DataFrame(data=x_test,columns=inputs.columns)"
   ]
  },
  {
   "cell_type": "code",
   "execution_count": 414,
   "metadata": {},
   "outputs": [],
   "source": [
    "x_test1=sm.add_constant(xtest)"
   ]
  },
  {
   "cell_type": "code",
   "execution_count": 422,
   "metadata": {
    "scrolled": true
   },
   "outputs": [],
   "source": [
    "result_test=sm.OLS(list(y_test),x_test1).fit()"
   ]
  },
  {
   "cell_type": "code",
   "execution_count": 424,
   "metadata": {
    "scrolled": false
   },
   "outputs": [
    {
     "data": {
      "text/html": [
       "<table class=\"simpletable\">\n",
       "<caption>OLS Regression Results</caption>\n",
       "<tr>\n",
       "  <th>Dep. Variable:</th>            <td>y</td>        <th>  R-squared:         </th> <td>   0.997</td> \n",
       "</tr>\n",
       "<tr>\n",
       "  <th>Model:</th>                   <td>OLS</td>       <th>  Adj. R-squared:    </th> <td>   0.996</td> \n",
       "</tr>\n",
       "<tr>\n",
       "  <th>Method:</th>             <td>Least Squares</td>  <th>  F-statistic:       </th> <td>   1105.</td> \n",
       "</tr>\n",
       "<tr>\n",
       "  <th>Date:</th>             <td>Wed, 06 May 2020</td> <th>  Prob (F-statistic):</th> <td>8.65e-186</td>\n",
       "</tr>\n",
       "<tr>\n",
       "  <th>Time:</th>                 <td>14:48:52</td>     <th>  Log-Likelihood:    </th> <td> -137.77</td> \n",
       "</tr>\n",
       "<tr>\n",
       "  <th>No. Observations:</th>      <td>   214</td>      <th>  AIC:               </th> <td>   369.5</td> \n",
       "</tr>\n",
       "<tr>\n",
       "  <th>Df Residuals:</th>          <td>   167</td>      <th>  BIC:               </th> <td>   527.7</td> \n",
       "</tr>\n",
       "<tr>\n",
       "  <th>Df Model:</th>              <td>    46</td>      <th>                     </th>     <td> </td>    \n",
       "</tr>\n",
       "<tr>\n",
       "  <th>Covariance Type:</th>      <td>nonrobust</td>    <th>                     </th>     <td> </td>    \n",
       "</tr>\n",
       "</table>\n",
       "<table class=\"simpletable\">\n",
       "<tr>\n",
       "          <td></td>             <th>coef</th>     <th>std err</th>      <th>t</th>      <th>P>|t|</th>  <th>[0.025</th>    <th>0.975]</th>  \n",
       "</tr>\n",
       "<tr>\n",
       "  <th>const</th>             <td>    2.4599</td> <td>    0.436</td> <td>    5.643</td> <td> 0.000</td> <td>    1.599</td> <td>    3.321</td>\n",
       "</tr>\n",
       "<tr>\n",
       "  <th>gender</th>            <td>   -1.2658</td> <td>    0.244</td> <td>   -5.187</td> <td> 0.000</td> <td>   -1.748</td> <td>   -0.784</td>\n",
       "</tr>\n",
       "<tr>\n",
       "  <th>Age Adjusted Rate</th> <td>   46.1123</td> <td>    0.829</td> <td>   55.627</td> <td> 0.000</td> <td>   44.476</td> <td>   47.749</td>\n",
       "</tr>\n",
       "<tr>\n",
       "  <th>Butte</th>             <td>   -0.2268</td> <td>    0.388</td> <td>   -0.584</td> <td> 0.560</td> <td>   -0.993</td> <td>    0.540</td>\n",
       "</tr>\n",
       "<tr>\n",
       "  <th>CALIFORNIA</th>        <td>   -0.2862</td> <td>    0.232</td> <td>   -1.234</td> <td> 0.219</td> <td>   -0.744</td> <td>    0.172</td>\n",
       "</tr>\n",
       "<tr>\n",
       "  <th>Calaveras</th>         <td> -5.37e-15</td> <td>    1e-15</td> <td>   -5.344</td> <td> 0.000</td> <td>-7.35e-15</td> <td>-3.39e-15</td>\n",
       "</tr>\n",
       "<tr>\n",
       "  <th>Contra Costa</th>      <td>    0.0720</td> <td>    0.247</td> <td>    0.291</td> <td> 0.771</td> <td>   -0.416</td> <td>    0.561</td>\n",
       "</tr>\n",
       "<tr>\n",
       "  <th>El Dorado</th>         <td>    0.9679</td> <td>    0.554</td> <td>    1.746</td> <td> 0.083</td> <td>   -0.126</td> <td>    2.062</td>\n",
       "</tr>\n",
       "<tr>\n",
       "  <th>Fresno</th>            <td>   -0.8140</td> <td>    0.274</td> <td>   -2.976</td> <td> 0.003</td> <td>   -1.354</td> <td>   -0.274</td>\n",
       "</tr>\n",
       "<tr>\n",
       "  <th>Humboldt</th>          <td>    0.3201</td> <td>    0.540</td> <td>    0.593</td> <td> 0.554</td> <td>   -0.746</td> <td>    1.386</td>\n",
       "</tr>\n",
       "<tr>\n",
       "  <th>Imperial</th>          <td>   -0.7759</td> <td>    0.412</td> <td>   -1.883</td> <td> 0.061</td> <td>   -1.589</td> <td>    0.037</td>\n",
       "</tr>\n",
       "<tr>\n",
       "  <th>Inyo</th>              <td>    7.9626</td> <td>    0.720</td> <td>   11.064</td> <td> 0.000</td> <td>    6.542</td> <td>    9.383</td>\n",
       "</tr>\n",
       "<tr>\n",
       "  <th>Kern</th>              <td>   -0.9464</td> <td>    0.358</td> <td>   -2.643</td> <td> 0.009</td> <td>   -1.653</td> <td>   -0.239</td>\n",
       "</tr>\n",
       "<tr>\n",
       "  <th>Lake</th>              <td>-1.461e-14</td> <td> 8.55e-16</td> <td>  -17.088</td> <td> 0.000</td> <td>-1.63e-14</td> <td>-1.29e-14</td>\n",
       "</tr>\n",
       "<tr>\n",
       "  <th>Los Angeles</th>       <td>   -0.2995</td> <td>    0.271</td> <td>   -1.105</td> <td> 0.271</td> <td>   -0.834</td> <td>    0.235</td>\n",
       "</tr>\n",
       "<tr>\n",
       "  <th>Madera</th>            <td>  1.71e-14</td> <td> 1.07e-15</td> <td>   15.957</td> <td> 0.000</td> <td>  1.5e-14</td> <td> 1.92e-14</td>\n",
       "</tr>\n",
       "<tr>\n",
       "  <th>Marin</th>             <td>    3.2913</td> <td>    0.557</td> <td>    5.907</td> <td> 0.000</td> <td>    2.191</td> <td>    4.391</td>\n",
       "</tr>\n",
       "<tr>\n",
       "  <th>Mendocino</th>         <td>    2.5717</td> <td>    0.661</td> <td>    3.890</td> <td> 0.000</td> <td>    1.266</td> <td>    3.877</td>\n",
       "</tr>\n",
       "<tr>\n",
       "  <th>Merced</th>            <td>   -0.8572</td> <td>    0.279</td> <td>   -3.069</td> <td> 0.003</td> <td>   -1.409</td> <td>   -0.306</td>\n",
       "</tr>\n",
       "<tr>\n",
       "  <th>Monterey</th>          <td>   -0.2292</td> <td>    0.268</td> <td>   -0.856</td> <td> 0.393</td> <td>   -0.758</td> <td>    0.300</td>\n",
       "</tr>\n",
       "<tr>\n",
       "  <th>Napa</th>              <td>   -0.0681</td> <td>    0.353</td> <td>   -0.193</td> <td> 0.847</td> <td>   -0.766</td> <td>    0.629</td>\n",
       "</tr>\n",
       "<tr>\n",
       "  <th>Nevada</th>            <td>   -2.7461</td> <td>    0.591</td> <td>   -4.649</td> <td> 0.000</td> <td>   -3.912</td> <td>   -1.580</td>\n",
       "</tr>\n",
       "<tr>\n",
       "  <th>Orange</th>            <td>   -0.2314</td> <td>    0.258</td> <td>   -0.897</td> <td> 0.371</td> <td>   -0.741</td> <td>    0.278</td>\n",
       "</tr>\n",
       "<tr>\n",
       "  <th>Placer</th>            <td>    0.6019</td> <td>    0.325</td> <td>    1.853</td> <td> 0.066</td> <td>   -0.039</td> <td>    1.243</td>\n",
       "</tr>\n",
       "<tr>\n",
       "  <th>Plumas</th>            <td>-1.351e-14</td> <td>  7.7e-16</td> <td>  -17.543</td> <td> 0.000</td> <td> -1.5e-14</td> <td> -1.2e-14</td>\n",
       "</tr>\n",
       "<tr>\n",
       "  <th>Riverside</th>         <td>   -0.4841</td> <td>    0.237</td> <td>   -2.039</td> <td> 0.043</td> <td>   -0.953</td> <td>   -0.015</td>\n",
       "</tr>\n",
       "<tr>\n",
       "  <th>Sacramento</th>        <td>   -0.3900</td> <td>    0.241</td> <td>   -1.620</td> <td> 0.107</td> <td>   -0.865</td> <td>    0.085</td>\n",
       "</tr>\n",
       "<tr>\n",
       "  <th>San Bernardino</th>    <td>   -1.1198</td> <td>    0.246</td> <td>   -4.548</td> <td> 0.000</td> <td>   -1.606</td> <td>   -0.634</td>\n",
       "</tr>\n",
       "<tr>\n",
       "  <th>San Diego</th>         <td>   -0.3435</td> <td>    0.233</td> <td>   -1.473</td> <td> 0.143</td> <td>   -0.804</td> <td>    0.117</td>\n",
       "</tr>\n",
       "<tr>\n",
       "  <th>San Francisco</th>     <td>    1.0819</td> <td>    0.257</td> <td>    4.206</td> <td> 0.000</td> <td>    0.574</td> <td>    1.590</td>\n",
       "</tr>\n",
       "<tr>\n",
       "  <th>San Joaquin</th>       <td>   -0.5427</td> <td>    0.266</td> <td>   -2.039</td> <td> 0.043</td> <td>   -1.068</td> <td>   -0.017</td>\n",
       "</tr>\n",
       "<tr>\n",
       "  <th>San Luis Obispo</th>   <td>    1.9697</td> <td>    0.379</td> <td>    5.198</td> <td> 0.000</td> <td>    1.221</td> <td>    2.718</td>\n",
       "</tr>\n",
       "<tr>\n",
       "  <th>San Mateo</th>         <td>   -0.0090</td> <td>    0.316</td> <td>   -0.029</td> <td> 0.977</td> <td>   -0.632</td> <td>    0.614</td>\n",
       "</tr>\n",
       "<tr>\n",
       "  <th>Santa Barbara</th>     <td>   -0.2473</td> <td>    0.412</td> <td>   -0.600</td> <td> 0.549</td> <td>   -1.061</td> <td>    0.567</td>\n",
       "</tr>\n",
       "<tr>\n",
       "  <th>Santa Clara</th>       <td>    0.0946</td> <td>    0.244</td> <td>    0.389</td> <td> 0.698</td> <td>   -0.386</td> <td>    0.575</td>\n",
       "</tr>\n",
       "<tr>\n",
       "  <th>Santa Cruz</th>        <td>   -1.5336</td> <td>    0.427</td> <td>   -3.592</td> <td> 0.000</td> <td>   -2.377</td> <td>   -0.691</td>\n",
       "</tr>\n",
       "<tr>\n",
       "  <th>Shasta</th>            <td>    0.5123</td> <td>    0.475</td> <td>    1.079</td> <td> 0.282</td> <td>   -0.425</td> <td>    1.450</td>\n",
       "</tr>\n",
       "<tr>\n",
       "  <th>Siskiyou</th>          <td>    0.9587</td> <td>    0.593</td> <td>    1.616</td> <td> 0.108</td> <td>   -0.213</td> <td>    2.130</td>\n",
       "</tr>\n",
       "<tr>\n",
       "  <th>Solano</th>            <td>   -0.2138</td> <td>    0.260</td> <td>   -0.822</td> <td> 0.412</td> <td>   -0.727</td> <td>    0.300</td>\n",
       "</tr>\n",
       "<tr>\n",
       "  <th>Sonoma</th>            <td>    0.4489</td> <td>    0.297</td> <td>    1.513</td> <td> 0.132</td> <td>   -0.137</td> <td>    1.035</td>\n",
       "</tr>\n",
       "<tr>\n",
       "  <th>Stanislaus</th>        <td>   -0.5375</td> <td>    0.279</td> <td>   -1.929</td> <td> 0.055</td> <td>   -1.088</td> <td>    0.013</td>\n",
       "</tr>\n",
       "<tr>\n",
       "  <th>Tehama</th>            <td>   -1.5200</td> <td>    0.616</td> <td>   -2.468</td> <td> 0.015</td> <td>   -2.736</td> <td>   -0.304</td>\n",
       "</tr>\n",
       "<tr>\n",
       "  <th>Tulare</th>            <td>   -1.1573</td> <td>    0.318</td> <td>   -3.637</td> <td> 0.000</td> <td>   -1.786</td> <td>   -0.529</td>\n",
       "</tr>\n",
       "<tr>\n",
       "  <th>Ventura</th>           <td>   -0.4699</td> <td>    0.295</td> <td>   -1.590</td> <td> 0.114</td> <td>   -1.053</td> <td>    0.113</td>\n",
       "</tr>\n",
       "<tr>\n",
       "  <th>Yolo</th>              <td>   -0.4467</td> <td>    0.417</td> <td>   -1.071</td> <td> 0.286</td> <td>   -1.270</td> <td>    0.377</td>\n",
       "</tr>\n",
       "<tr>\n",
       "  <th>Asian-NH</th>          <td>    0.0431</td> <td>    0.407</td> <td>    0.106</td> <td> 0.916</td> <td>   -0.761</td> <td>    0.847</td>\n",
       "</tr>\n",
       "<tr>\n",
       "  <th>Black-NH</th>          <td>   -0.0802</td> <td>    0.412</td> <td>   -0.194</td> <td> 0.846</td> <td>   -0.894</td> <td>    0.734</td>\n",
       "</tr>\n",
       "<tr>\n",
       "  <th>Hisp</th>              <td>    0.0243</td> <td>    0.404</td> <td>    0.060</td> <td> 0.952</td> <td>   -0.774</td> <td>    0.822</td>\n",
       "</tr>\n",
       "<tr>\n",
       "  <th>Multi-NH</th>          <td>    0.4121</td> <td>    0.418</td> <td>    0.986</td> <td> 0.325</td> <td>   -0.413</td> <td>    1.237</td>\n",
       "</tr>\n",
       "<tr>\n",
       "  <th>NHPI-NH</th>           <td>   -0.3344</td> <td>    0.523</td> <td>   -0.639</td> <td> 0.524</td> <td>   -1.367</td> <td>    0.698</td>\n",
       "</tr>\n",
       "<tr>\n",
       "  <th>White-NH</th>          <td>    0.1379</td> <td>    0.409</td> <td>    0.337</td> <td> 0.737</td> <td>   -0.670</td> <td>    0.946</td>\n",
       "</tr>\n",
       "</table>\n",
       "<table class=\"simpletable\">\n",
       "<tr>\n",
       "  <th>Omnibus:</th>       <td> 7.014</td> <th>  Durbin-Watson:     </th> <td>   2.087</td>\n",
       "</tr>\n",
       "<tr>\n",
       "  <th>Prob(Omnibus):</th> <td> 0.030</td> <th>  Jarque-Bera (JB):  </th> <td>   8.178</td>\n",
       "</tr>\n",
       "<tr>\n",
       "  <th>Skew:</th>          <td>-0.275</td> <th>  Prob(JB):          </th> <td>  0.0168</td>\n",
       "</tr>\n",
       "<tr>\n",
       "  <th>Kurtosis:</th>      <td> 3.785</td> <th>  Cond. No.          </th> <td>3.76e+16</td>\n",
       "</tr>\n",
       "</table><br/><br/>Warnings:<br/>[1] Standard Errors assume that the covariance matrix of the errors is correctly specified.<br/>[2] The smallest eigenvalue is 2.43e-31. This might indicate that there are<br/>strong multicollinearity problems or that the design matrix is singular."
      ],
      "text/plain": [
       "<class 'statsmodels.iolib.summary.Summary'>\n",
       "\"\"\"\n",
       "                            OLS Regression Results                            \n",
       "==============================================================================\n",
       "Dep. Variable:                      y   R-squared:                       0.997\n",
       "Model:                            OLS   Adj. R-squared:                  0.996\n",
       "Method:                 Least Squares   F-statistic:                     1105.\n",
       "Date:                Wed, 06 May 2020   Prob (F-statistic):          8.65e-186\n",
       "Time:                        14:48:52   Log-Likelihood:                -137.77\n",
       "No. Observations:                 214   AIC:                             369.5\n",
       "Df Residuals:                     167   BIC:                             527.7\n",
       "Df Model:                          46                                         \n",
       "Covariance Type:            nonrobust                                         \n",
       "=====================================================================================\n",
       "                        coef    std err          t      P>|t|      [0.025      0.975]\n",
       "-------------------------------------------------------------------------------------\n",
       "const                 2.4599      0.436      5.643      0.000       1.599       3.321\n",
       "gender               -1.2658      0.244     -5.187      0.000      -1.748      -0.784\n",
       "Age Adjusted Rate    46.1123      0.829     55.627      0.000      44.476      47.749\n",
       "Butte                -0.2268      0.388     -0.584      0.560      -0.993       0.540\n",
       "CALIFORNIA           -0.2862      0.232     -1.234      0.219      -0.744       0.172\n",
       "Calaveras          -5.37e-15      1e-15     -5.344      0.000   -7.35e-15   -3.39e-15\n",
       "Contra Costa          0.0720      0.247      0.291      0.771      -0.416       0.561\n",
       "El Dorado             0.9679      0.554      1.746      0.083      -0.126       2.062\n",
       "Fresno               -0.8140      0.274     -2.976      0.003      -1.354      -0.274\n",
       "Humboldt              0.3201      0.540      0.593      0.554      -0.746       1.386\n",
       "Imperial             -0.7759      0.412     -1.883      0.061      -1.589       0.037\n",
       "Inyo                  7.9626      0.720     11.064      0.000       6.542       9.383\n",
       "Kern                 -0.9464      0.358     -2.643      0.009      -1.653      -0.239\n",
       "Lake              -1.461e-14   8.55e-16    -17.088      0.000   -1.63e-14   -1.29e-14\n",
       "Los Angeles          -0.2995      0.271     -1.105      0.271      -0.834       0.235\n",
       "Madera              1.71e-14   1.07e-15     15.957      0.000     1.5e-14    1.92e-14\n",
       "Marin                 3.2913      0.557      5.907      0.000       2.191       4.391\n",
       "Mendocino             2.5717      0.661      3.890      0.000       1.266       3.877\n",
       "Merced               -0.8572      0.279     -3.069      0.003      -1.409      -0.306\n",
       "Monterey             -0.2292      0.268     -0.856      0.393      -0.758       0.300\n",
       "Napa                 -0.0681      0.353     -0.193      0.847      -0.766       0.629\n",
       "Nevada               -2.7461      0.591     -4.649      0.000      -3.912      -1.580\n",
       "Orange               -0.2314      0.258     -0.897      0.371      -0.741       0.278\n",
       "Placer                0.6019      0.325      1.853      0.066      -0.039       1.243\n",
       "Plumas            -1.351e-14    7.7e-16    -17.543      0.000    -1.5e-14    -1.2e-14\n",
       "Riverside            -0.4841      0.237     -2.039      0.043      -0.953      -0.015\n",
       "Sacramento           -0.3900      0.241     -1.620      0.107      -0.865       0.085\n",
       "San Bernardino       -1.1198      0.246     -4.548      0.000      -1.606      -0.634\n",
       "San Diego            -0.3435      0.233     -1.473      0.143      -0.804       0.117\n",
       "San Francisco         1.0819      0.257      4.206      0.000       0.574       1.590\n",
       "San Joaquin          -0.5427      0.266     -2.039      0.043      -1.068      -0.017\n",
       "San Luis Obispo       1.9697      0.379      5.198      0.000       1.221       2.718\n",
       "San Mateo            -0.0090      0.316     -0.029      0.977      -0.632       0.614\n",
       "Santa Barbara        -0.2473      0.412     -0.600      0.549      -1.061       0.567\n",
       "Santa Clara           0.0946      0.244      0.389      0.698      -0.386       0.575\n",
       "Santa Cruz           -1.5336      0.427     -3.592      0.000      -2.377      -0.691\n",
       "Shasta                0.5123      0.475      1.079      0.282      -0.425       1.450\n",
       "Siskiyou              0.9587      0.593      1.616      0.108      -0.213       2.130\n",
       "Solano               -0.2138      0.260     -0.822      0.412      -0.727       0.300\n",
       "Sonoma                0.4489      0.297      1.513      0.132      -0.137       1.035\n",
       "Stanislaus           -0.5375      0.279     -1.929      0.055      -1.088       0.013\n",
       "Tehama               -1.5200      0.616     -2.468      0.015      -2.736      -0.304\n",
       "Tulare               -1.1573      0.318     -3.637      0.000      -1.786      -0.529\n",
       "Ventura              -0.4699      0.295     -1.590      0.114      -1.053       0.113\n",
       "Yolo                 -0.4467      0.417     -1.071      0.286      -1.270       0.377\n",
       "Asian-NH              0.0431      0.407      0.106      0.916      -0.761       0.847\n",
       "Black-NH             -0.0802      0.412     -0.194      0.846      -0.894       0.734\n",
       "Hisp                  0.0243      0.404      0.060      0.952      -0.774       0.822\n",
       "Multi-NH              0.4121      0.418      0.986      0.325      -0.413       1.237\n",
       "NHPI-NH              -0.3344      0.523     -0.639      0.524      -1.367       0.698\n",
       "White-NH              0.1379      0.409      0.337      0.737      -0.670       0.946\n",
       "==============================================================================\n",
       "Omnibus:                        7.014   Durbin-Watson:                   2.087\n",
       "Prob(Omnibus):                  0.030   Jarque-Bera (JB):                8.178\n",
       "Skew:                          -0.275   Prob(JB):                       0.0168\n",
       "Kurtosis:                       3.785   Cond. No.                     3.76e+16\n",
       "==============================================================================\n",
       "\n",
       "Warnings:\n",
       "[1] Standard Errors assume that the covariance matrix of the errors is correctly specified.\n",
       "[2] The smallest eigenvalue is 2.43e-31. This might indicate that there are\n",
       "strong multicollinearity problems or that the design matrix is singular.\n",
       "\"\"\""
      ]
     },
     "execution_count": 424,
     "metadata": {},
     "output_type": "execute_result"
    }
   ],
   "source": [
    "result_test.summary()"
   ]
  }
 ],
 "metadata": {
  "kernelspec": {
   "display_name": "Python 3",
   "language": "python",
   "name": "python3"
  },
  "language_info": {
   "codemirror_mode": {
    "name": "ipython",
    "version": 3
   },
   "file_extension": ".py",
   "mimetype": "text/x-python",
   "name": "python",
   "nbconvert_exporter": "python",
   "pygments_lexer": "ipython3",
   "version": "3.7.6"
  },
  "toc": {
   "base_numbering": 1,
   "nav_menu": {},
   "number_sections": true,
   "sideBar": true,
   "skip_h1_title": false,
   "title_cell": "Table of Contents",
   "title_sidebar": "Contents",
   "toc_cell": false,
   "toc_position": {},
   "toc_section_display": true,
   "toc_window_display": false
  }
 },
 "nbformat": 4,
 "nbformat_minor": 4
}
